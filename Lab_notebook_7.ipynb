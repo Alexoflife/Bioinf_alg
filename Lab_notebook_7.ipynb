{
 "cells": [
  {
   "cell_type": "markdown",
   "metadata": {},
   "source": [
    "# Dead Man’s Teeth. Introduction to metagenomics analysis."
   ]
  },
  {
   "cell_type": "markdown",
   "metadata": {},
   "source": [
    "## Part 1. Amplicon sequencing.\n"
   ]
  },
  {
   "cell_type": "markdown",
   "metadata": {},
   "source": [
    "### 1. QIIME2 installation\n"
   ]
  },
  {
   "cell_type": "markdown",
   "metadata": {},
   "source": [
    "### 2. Importing data.\n"
   ]
  },
  {
   "cell_type": "markdown",
   "metadata": {},
   "source": [
    "`qiime tools import   --type 'SampleData[SequencesWithQuality]'   --input-path manifest.tsv   --output-path sequences.qza   --input-format SingleEndFastqManifestPhred33V`\n",
    "\n",
    "_Imported manifest.tsv as SingleEndFastqManifestPhred33V2 to sequences.qza_"
   ]
  },
  {
   "cell_type": "markdown",
   "metadata": {},
   "source": [
    "`qiime tools validate sequences.qza`\n",
    "\n",
    "_Result sequences.qza appears to be valid at level=max._"
   ]
  },
  {
   "cell_type": "markdown",
   "metadata": {},
   "source": [
    "### 3. Demultiplexing and QC"
   ]
  },
  {
   "cell_type": "markdown",
   "metadata": {},
   "source": [
    "`qiime demux summarize   --i-data sequences.qza   --o-visualization sequences.qzv`\n",
    "\n",
    "_Saved Visualization to: sequences.qzv_"
   ]
  },
  {
   "cell_type": "markdown",
   "metadata": {},
   "source": [
    "### 4. Feature table construction (and more QC)\n"
   ]
  },
  {
   "cell_type": "markdown",
   "metadata": {},
   "source": [
    "`qiime dada2 denoise-single   --i-demultiplexed-seqs sequences.qza   --p-trim-left 32 --p-trunc-len 100 --o-representative-sequences rep-seqs.qza --o-table table.qza --o-denoising-stats stats.qza`\n",
    "\n",
    "_Saved FeatureTable[Frequency] to: table.qza_\n",
    "\n",
    "_Saved FeatureData[Sequence] to: rep-seqs.qza_\n",
    "\n",
    "_Saved SampleData[DADA2Stats] to: stats.qza_"
   ]
  },
  {
   "cell_type": "markdown",
   "metadata": {},
   "source": [
    "`qiime metadata tabulate   --m-input-file stats.qza   --o-visualization stats.qzv`\n",
    "\n",
    "numeric\tpercentage of input passed filter \n",
    "\n",
    "bone -\n",
    "\n",
    "calculus -"
   ]
  },
  {
   "cell_type": "markdown",
   "metadata": {},
   "source": [
    "### 5. FeatureTable and FeatureData summaries\n"
   ]
  },
  {
   "cell_type": "markdown",
   "metadata": {},
   "source": [
    "`qiime feature-table summarize   --i-table table.qza   --o-visualization table.qzv   --m-sample-metadata-file sample-metadata.tsv`\n",
    "\n",
    "`qiime feature-table tabulate-seqs  --i-data rep-seqs.qza   --o-visualization rep-seqs.qzv`"
   ]
  },
  {
   "cell_type": "markdown",
   "metadata": {},
   "source": [
    "### 6. Taxonomic analysis"
   ]
  },
  {
   "cell_type": "markdown",
   "metadata": {},
   "source": [
    "`qiime feature-classifier classify-sklearn   --i-classifier gg-13-8-99-nb-classifier.qza   --i-reads rep-seqs.qza   --o-classification taxonomy.qza`\n",
    "\n",
    "_Saved FeatureData[Taxonomy] to: taxonomy.qza_"
   ]
  },
  {
   "cell_type": "markdown",
   "metadata": {},
   "source": [
    "`qiime metadata tabulate --m-input-file taxonomy.qza --o-visualization taxonomy.qzv`\n",
    "\n"
   ]
  },
  {
   "cell_type": "markdown",
   "metadata": {},
   "source": [
    "`qiime taxa barplot \\\n",
    "  --i-table table.qza \\\n",
    "  --i-taxonomy taxonomy.qza \\\n",
    "  --m-metadata-file sample-metadata.tsv \\\n",
    "  --o-visualization taxa-bar-plots.qzv`\n",
    "  \n",
    "_Saved Visualization to: taxa-bar-plots.qzv_ "
   ]
  },
  {
   "cell_type": "markdown",
   "metadata": {},
   "source": [
    "## Part 2. Shotgun sequencing."
   ]
  },
  {
   "cell_type": "markdown",
   "metadata": {},
   "source": [
    "### 1-3: Problems with metaphlan"
   ]
  },
  {
   "cell_type": "markdown",
   "metadata": {},
   "source": [
    "### 4. Comparison with ancient Tannerella forsythia genome\n"
   ]
  },
  {
   "cell_type": "code",
   "execution_count": 7,
   "metadata": {},
   "outputs": [],
   "source": [
    "file_path = '/media/data/prakt_7/test_1/G12_out.txt'\n",
    "output_text = ''\n",
    "cnt = 0\n",
    "with open(file_path, 'r') as input_file:\n",
    "    for line in input_file:\n",
    "        if 'RefSeq\\tgene' in line:\n",
    "            cnt += 1\n",
    "            output_text += line"
   ]
  },
  {
   "cell_type": "code",
   "execution_count": 8,
   "metadata": {},
   "outputs": [
    {
     "data": {
      "text/plain": [
       "172"
      ]
     },
     "execution_count": 8,
     "metadata": {},
     "output_type": "execute_result"
    }
   ],
   "source": [
    "cnt"
   ]
  },
  {
   "cell_type": "code",
   "execution_count": 9,
   "metadata": {
    "scrolled": false
   },
   "outputs": [
    {
     "name": "stdout",
     "output_type": "stream",
     "text": [
      "NC_016610.1\tRefSeq\tgene\t106544\t107707\t.\t+\t.\tID=gene-BFO_RS00425;Name=BFO_RS00425;gbkey=Gene;gene_biotype=protein_coding;locus_tag=BFO_RS00425;old_locus_tag=BFO_0094\n",
      "NC_016610.1\tRefSeq\tgene\t119304\t119939\t.\t+\t.\tID=gene-BFO_RS00480;Name=BFO_RS00480;gbkey=Gene;gene_biotype=protein_coding;locus_tag=BFO_RS00480;old_locus_tag=BFO_0103\n",
      "NC_016610.1\tRefSeq\tgene\t119936\t121180\t.\t+\t.\tID=gene-BFO_RS00485;Name=BFO_RS00485;gbkey=Gene;gene_biotype=protein_coding;locus_tag=BFO_RS00485;old_locus_tag=BFO_0104\n",
      "NC_016610.1\tRefSeq\tgene\t121228\t121548\t.\t+\t.\tID=gene-BFO_RS00490;Name=BFO_RS00490;gbkey=Gene;gene_biotype=protein_coding;locus_tag=BFO_RS00490\n",
      "NC_016610.1\tRefSeq\tgene\t121611\t122735\t.\t+\t.\tID=gene-BFO_RS00495;Name=BFO_RS00495;gbkey=Gene;gene_biotype=protein_coding;locus_tag=BFO_RS00495;old_locus_tag=BFO_0105\n",
      "NC_016610.1\tRefSeq\tgene\t125074\t127296\t.\t+\t.\tID=gene-BFO_RS00510;Name=BFO_RS00510;gbkey=Gene;gene_biotype=protein_coding;locus_tag=BFO_RS00510;old_locus_tag=BFO_0109\n",
      "NC_016610.1\tRefSeq\tgene\t127293\t128177\t.\t+\t.\tID=gene-BFO_RS00515;Name=BFO_RS00515;gbkey=Gene;gene_biotype=protein_coding;locus_tag=BFO_RS00515;old_locus_tag=BFO_0110\n",
      "NC_016610.1\tRefSeq\tgene\t140746\t141960\t.\t-\t.\tID=gene-BFO_RS00575;Name=BFO_RS00575;gbkey=Gene;gene_biotype=protein_coding;locus_tag=BFO_RS00575;old_locus_tag=BFO_0122\n",
      "NC_016610.1\tRefSeq\tgene\t171529\t171765\t.\t-\t.\tID=gene-BFO_RS15420;Name=BFO_RS15420;gbkey=Gene;gene_biotype=protein_coding;locus_tag=BFO_RS15420;old_locus_tag=BFO_0150\n",
      "NC_016610.1\tRefSeq\tgene\t192365\t192595\t.\t-\t.\tID=gene-BFO_RS15915;Name=BFO_RS15915;gbkey=Gene;gene_biotype=protein_coding;locus_tag=BFO_RS15915;old_locus_tag=BFO_0164\n",
      "NC_016610.1\tRefSeq\tgene\t222575\t222949\t.\t+\t.\tID=gene-BFO_RS00885;Name=BFO_RS00885;gbkey=Gene;gene_biotype=protein_coding;locus_tag=BFO_RS00885;old_locus_tag=BFO_0194\n",
      "NC_016610.1\tRefSeq\tgene\t274106\t275041\t.\t+\t.\tID=gene-BFO_RS01105;Name=BFO_RS01105;gbkey=Gene;gene_biotype=protein_coding;locus_tag=BFO_RS01105;old_locus_tag=BFO_0241\n",
      "NC_016610.1\tRefSeq\tgene\t278338\t278523\t.\t+\t.\tID=gene-BFO_RS15785;Name=BFO_RS15785;gbkey=Gene;gene_biotype=protein_coding;locus_tag=BFO_RS15785;old_locus_tag=BFO_0247\n",
      "NC_016610.1\tRefSeq\tgene\t278677\t278749\t.\t+\t.\tID=gene-BFO_RS01140;Name=BFO_RS01140;gbkey=Gene;gene_biotype=tRNA;locus_tag=BFO_RS01140;old_locus_tag=BFO_0248\n",
      "NC_016610.1\tRefSeq\tgene\t301209\t301682\t.\t+\t.\tID=gene-BFO_RS01250;Name=BFO_RS01250;gbkey=Gene;gene_biotype=protein_coding;locus_tag=BFO_RS01250;old_locus_tag=BFO_0274\n",
      "NC_016610.1\tRefSeq\tgene\t310760\t311275\t.\t+\t.\tID=gene-BFO_RS15435;Name=BFO_RS15435;gbkey=Gene;gene_biotype=protein_coding;locus_tag=BFO_RS15435\n",
      "NC_016610.1\tRefSeq\tgene\t364225\t366195\t.\t+\t.\tID=gene-BFO_RS01545;Name=BFO_RS01545;gbkey=Gene;gene_biotype=protein_coding;locus_tag=BFO_RS01545;old_locus_tag=BFO_0342\n",
      "NC_016610.1\tRefSeq\tgene\t366496\t366759\t.\t+\t.\tID=gene-BFO_RS01550;Name=BFO_RS01550;gbkey=Gene;gene_biotype=protein_coding;locus_tag=BFO_RS01550;old_locus_tag=BFO_0344\n",
      "NC_016610.1\tRefSeq\tgene\t369972\t370286\t.\t+\t.\tID=gene-BFO_RS01570;Name=BFO_RS01570;gbkey=Gene;gene_biotype=protein_coding;locus_tag=BFO_RS01570\n",
      "NC_016610.1\tRefSeq\tgene\t370629\t371762\t.\t+\t.\tID=gene-BFO_RS01575;Name=BFO_RS01575;gbkey=Gene;gene_biotype=protein_coding;locus_tag=BFO_RS01575;old_locus_tag=BFO_0349\n",
      "NC_016610.1\tRefSeq\tgene\t373219\t373901\t.\t-\t.\tID=gene-BFO_RS14730;Name=BFO_RS14730;gbkey=Gene;gene_biotype=protein_coding;locus_tag=BFO_RS14730\n",
      "NC_016610.1\tRefSeq\tgene\t373960\t375366\t.\t+\t.\tID=gene-BFO_RS01595;Name=BFO_RS01595;gbkey=Gene;gene_biotype=protein_coding;locus_tag=BFO_RS01595;old_locus_tag=BFO_0354\n",
      "NC_016610.1\tRefSeq\tgene\t376544\t377689\t.\t+\t.\tID=gene-BFO_RS01605;Name=BFO_RS01605;gbkey=Gene;gene_biotype=protein_coding;locus_tag=BFO_RS01605;old_locus_tag=BFO_0356\n",
      "NC_016610.1\tRefSeq\tgene\t612219\t612524\t.\t-\t.\tID=gene-BFO_RS02520;Name=BFO_RS02520;gbkey=Gene;gene_biotype=protein_coding;locus_tag=BFO_RS02520\n",
      "NC_016610.1\tRefSeq\tgene\t613019\t613168\t.\t-\t.\tID=gene-BFO_RS15805;Name=BFO_RS15805;gbkey=Gene;gene_biotype=protein_coding;locus_tag=BFO_RS15805;old_locus_tag=BFO_0569\n",
      "NC_016610.1\tRefSeq\tgene\t648545\t649227\t.\t-\t.\tID=gene-BFO_RS14770;Name=BFO_RS14770;gbkey=Gene;gene_biotype=protein_coding;locus_tag=BFO_RS14770\n",
      "NC_016610.1\tRefSeq\tgene\t670816\t671292\t.\t+\t.\tID=gene-BFO_RS02765;Name=vsr;gbkey=Gene;gene=vsr;gene_biotype=protein_coding;locus_tag=BFO_RS02765;old_locus_tag=BFO_0623\n",
      "NC_016610.1\tRefSeq\tgene\t671599\t671871\t.\t-\t.\tID=gene-BFO_RS02770;Name=BFO_RS02770;gbkey=Gene;gene_biotype=protein_coding;locus_tag=BFO_RS02770\n",
      "NC_016610.1\tRefSeq\tgene\t672042\t674405\t.\t-\t.\tID=gene-BFO_RS02775;Name=BFO_RS02775;gbkey=Gene;gene_biotype=protein_coding;locus_tag=BFO_RS02775;old_locus_tag=BFO_0625\n",
      "NC_016610.1\tRefSeq\tgene\t674402\t675409\t.\t-\t.\tID=gene-BFO_RS02780;Name=BFO_RS02780;gbkey=Gene;gene_biotype=protein_coding;locus_tag=BFO_RS02780;old_locus_tag=BFO_0626\n",
      "NC_016610.1\tRefSeq\tgene\t675399\t678200\t.\t-\t.\tID=gene-BFO_RS02785;Name=BFO_RS02785;gbkey=Gene;gene_biotype=protein_coding;locus_tag=BFO_RS02785;old_locus_tag=BFO_0627\n",
      "NC_016610.1\tRefSeq\tgene\t678201\t679667\t.\t-\t.\tID=gene-BFO_RS02790;Name=BFO_RS02790;gbkey=Gene;gene_biotype=protein_coding;locus_tag=BFO_RS02790;old_locus_tag=BFO_0628\n",
      "NC_016610.1\tRefSeq\tgene\t679674\t680186\t.\t-\t.\tID=gene-BFO_RS02795;Name=BFO_RS02795;gbkey=Gene;gene_biotype=protein_coding;locus_tag=BFO_RS02795\n",
      "NC_016610.1\tRefSeq\tgene\t748793\t750037\t.\t+\t.\tID=gene-BFO_RS03085;Name=BFO_RS03085;gbkey=Gene;gene_biotype=protein_coding;locus_tag=BFO_RS03085;old_locus_tag=BFO_0694\n",
      "NC_016610.1\tRefSeq\tgene\t829875\t831188\t.\t+\t.\tID=gene-BFO_RS03365;Name=BFO_RS03365;gbkey=Gene;gene_biotype=protein_coding;locus_tag=BFO_RS03365;old_locus_tag=BFO_0758\n",
      "NC_016610.1\tRefSeq\tgene\t831213\t831509\t.\t-\t.\tID=gene-BFO_RS15460;Name=BFO_RS15460;gbkey=Gene;gene_biotype=protein_coding;locus_tag=BFO_RS15460\n",
      "NC_016610.1\tRefSeq\tgene\t913004\t914116\t.\t+\t.\tID=gene-BFO_RS03680;Name=BFO_RS03680;gbkey=Gene;gene_biotype=protein_coding;locus_tag=BFO_RS03680;old_locus_tag=BFO_0831\n",
      "NC_016610.1\tRefSeq\tgene\t919500\t919712\t.\t-\t.\tID=gene-BFO_RS15480;Name=BFO_RS15480;gbkey=Gene;gene_biotype=protein_coding;locus_tag=BFO_RS15480;old_locus_tag=BFO_0834\n",
      "NC_016610.1\tRefSeq\tgene\t941341\t941484\t.\t+\t.\tID=gene-BFO_RS14830;Name=BFO_RS14830;gbkey=Gene;gene_biotype=protein_coding;locus_tag=BFO_RS14830;old_locus_tag=BFO_0852\n",
      "NC_016610.1\tRefSeq\tgene\t941597\t943054\t.\t+\t.\tID=gene-BFO_RS03760;Name=BFO_RS03760;gbkey=Gene;gene_biotype=protein_coding;locus_tag=BFO_RS03760;old_locus_tag=BFO_0853\n",
      "NC_016610.1\tRefSeq\tgene\t943066\t944232\t.\t+\t.\tID=gene-BFO_RS03765;Name=BFO_RS03765;gbkey=Gene;gene_biotype=protein_coding;locus_tag=BFO_RS03765;old_locus_tag=BFO_0854\n",
      "NC_016610.1\tRefSeq\tgene\t945351\t945743\t.\t+\t.\tID=gene-BFO_RS03775;Name=BFO_RS03775;gbkey=Gene;gene_biotype=protein_coding;locus_tag=BFO_RS03775\n",
      "NC_016610.1\tRefSeq\tgene\t946484\t946723\t.\t-\t.\tID=gene-BFO_RS14350;Name=BFO_RS14350;gbkey=Gene;gene_biotype=protein_coding;locus_tag=BFO_RS14350\n",
      "NC_016610.1\tRefSeq\tgene\t946722\t946943\t.\t+\t.\tID=gene-BFO_RS14355;Name=BFO_RS14355;gbkey=Gene;gene_biotype=protein_coding;locus_tag=BFO_RS14355\n",
      "NC_016610.1\tRefSeq\tgene\t955773\t956213\t.\t-\t.\tID=gene-BFO_RS14005;Name=BFO_RS14005;gbkey=Gene;gene_biotype=protein_coding;locus_tag=BFO_RS14005\n",
      "NC_016610.1\tRefSeq\tgene\t956420\t956671\t.\t-\t.\tID=gene-BFO_RS15485;Name=BFO_RS15485;gbkey=Gene;gene_biotype=protein_coding;locus_tag=BFO_RS15485;old_locus_tag=BFO_0869\n",
      "NC_016610.1\tRefSeq\tgene\t956764\t957795\t.\t+\t.\tID=gene-BFO_RS03825;Name=BFO_RS03825;gbkey=Gene;gene_biotype=protein_coding;locus_tag=BFO_RS03825;old_locus_tag=BFO_0870\n",
      "NC_016610.1\tRefSeq\tgene\t957792\t958565\t.\t+\t.\tID=gene-BFO_RS03830;Name=BFO_RS03830;gbkey=Gene;gene_biotype=protein_coding;locus_tag=BFO_RS03830;old_locus_tag=BFO_0871\n",
      "NC_016610.1\tRefSeq\tgene\t958586\t959293\t.\t-\t.\tID=gene-BFO_RS03835;Name=BFO_RS03835;gbkey=Gene;gene_biotype=protein_coding;locus_tag=BFO_RS03835;old_locus_tag=BFO_0872\n",
      "NC_016610.1\tRefSeq\tgene\t959414\t959578\t.\t-\t.\tID=gene-BFO_RS15490;Name=BFO_RS15490;gbkey=Gene;gene_biotype=protein_coding;locus_tag=BFO_RS15490\n",
      "NC_016610.1\tRefSeq\tgene\t1138399\t1139081\t.\t-\t.\tID=gene-BFO_RS14875;Name=BFO_RS14875;gbkey=Gene;gene_biotype=protein_coding;locus_tag=BFO_RS14875\n",
      "NC_016610.1\tRefSeq\tgene\t1197274\t1197705\t.\t-\t.\tID=gene-BFO_RS04830;Name=BFO_RS04830;gbkey=Gene;gene_biotype=protein_coding;locus_tag=BFO_RS04830\n",
      "NC_016610.1\tRefSeq\tgene\t1201991\t1203193\t.\t-\t.\tID=gene-BFO_RS04855;Name=BFO_RS04855;gbkey=Gene;gene_biotype=protein_coding;locus_tag=BFO_RS04855;old_locus_tag=BFO_1110\n",
      "NC_016610.1\tRefSeq\tgene\t1234090\t1234323\t.\t-\t.\tID=gene-BFO_RS04975;Name=BFO_RS04975;gbkey=Gene;gene_biotype=protein_coding;locus_tag=BFO_RS04975;old_locus_tag=BFO_1139\n",
      "NC_016610.1\tRefSeq\tgene\t1237127\t1238062\t.\t-\t.\tID=gene-BFO_RS04985;Name=BFO_RS04985;gbkey=Gene;gene_biotype=protein_coding;locus_tag=BFO_RS04985;old_locus_tag=BFO_1141\n",
      "NC_016610.1\tRefSeq\tgene\t1268623\t1268835\t.\t+\t.\tID=gene-BFO_RS05120;Name=BFO_RS05120;gbkey=Gene;gene_biotype=protein_coding;locus_tag=BFO_RS05120;old_locus_tag=BFO_1178\n",
      "NC_016610.1\tRefSeq\tgene\t1315318\t1316553\t.\t+\t.\tID=gene-BFO_RS05305;Name=BFO_RS05305;gbkey=Gene;gene_biotype=protein_coding;locus_tag=BFO_RS05305;old_locus_tag=BFO_1222\n",
      "NC_016610.1\tRefSeq\tgene\t1316567\t1316929\t.\t+\t.\tID=gene-BFO_RS05310;Name=BFO_RS05310;gbkey=Gene;gene_biotype=protein_coding;locus_tag=BFO_RS05310;old_locus_tag=BFO_1223\n",
      "NC_016610.1\tRefSeq\tgene\t1317021\t1317326\t.\t-\t.\tID=gene-BFO_RS05315;Name=BFO_RS05315;gbkey=Gene;gene_biotype=protein_coding;locus_tag=BFO_RS05315;old_locus_tag=BFO_1224\n",
      "NC_016610.1\tRefSeq\tgene\t1317366\t1317659\t.\t-\t.\tID=gene-BFO_RS05320;Name=BFO_RS05320;gbkey=Gene;gene_biotype=protein_coding;locus_tag=BFO_RS05320;old_locus_tag=BFO_1226\n",
      "NC_016610.1\tRefSeq\tgene\t1317910\t1318302\t.\t+\t.\tID=gene-BFO_RS05325;Name=BFO_RS05325;gbkey=Gene;gene_biotype=protein_coding;locus_tag=BFO_RS05325;old_locus_tag=BFO_1227\n",
      "NC_016610.1\tRefSeq\tgene\t1318306\t1318656\t.\t+\t.\tID=gene-BFO_RS05330;Name=BFO_RS05330;gbkey=Gene;gene_biotype=protein_coding;locus_tag=BFO_RS05330;old_locus_tag=BFO_1228\n",
      "NC_016610.1\tRefSeq\tgene\t1322642\t1323094\t.\t+\t.\tID=gene-BFO_RS05345;Name=BFO_RS05345;gbkey=Gene;gene_biotype=protein_coding;locus_tag=BFO_RS05345;old_locus_tag=BFO_1231\n",
      "NC_016610.1\tRefSeq\tgene\t1329136\t1329444\t.\t-\t.\tID=gene-BFO_RS05355;Name=BFO_RS05355;gbkey=Gene;gene_biotype=protein_coding;locus_tag=BFO_RS05355\n",
      "NC_016610.1\tRefSeq\tgene\t1329532\t1329909\t.\t+\t.\tID=gene-BFO_RS05360;Name=BFO_RS05360;gbkey=Gene;gene_biotype=protein_coding;locus_tag=BFO_RS05360;old_locus_tag=BFO_1233\n",
      "NC_016610.1\tRefSeq\tgene\t1329921\t1330778\t.\t+\t.\tID=gene-BFO_RS05365;Name=BFO_RS05365;gbkey=Gene;gene_biotype=protein_coding;locus_tag=BFO_RS05365;old_locus_tag=BFO_1234\n",
      "NC_016610.1\tRefSeq\tgene\t1331035\t1332960\t.\t+\t.\tID=gene-BFO_RS05370;Name=tet_rib_protect;gbkey=Gene;gene=tet_rib_protect;gene_biotype=protein_coding;locus_tag=BFO_RS05370;old_locus_tag=BFO_1235\n",
      "NC_016610.1\tRefSeq\tgene\t1332960\t1335278\t.\t+\t.\tID=gene-BFO_RS05375;Name=BFO_RS05375;gbkey=Gene;gene_biotype=protein_coding;locus_tag=BFO_RS05375;old_locus_tag=BFO_1236\n",
      "NC_016610.1\tRefSeq\tgene\t1335271\t1336593\t.\t+\t.\tID=gene-BFO_RS05380;Name=BFO_RS05380;gbkey=Gene;gene_biotype=protein_coding;locus_tag=BFO_RS05380;old_locus_tag=BFO_1237\n",
      "NC_016610.1\tRefSeq\tgene\t1336875\t1337288\t.\t+\t.\tID=gene-BFO_RS05385;Name=BFO_RS05385;gbkey=Gene;gene_biotype=protein_coding;locus_tag=BFO_RS05385;old_locus_tag=BFO_1238\n",
      "NC_016610.1\tRefSeq\tgene\t1337500\t1338117\t.\t+\t.\tID=gene-BFO_RS05390;Name=BFO_RS05390;gbkey=Gene;gene_biotype=protein_coding;locus_tag=BFO_RS05390;old_locus_tag=BFO_1240\n",
      "NC_016610.1\tRefSeq\tgene\t1338268\t1339731\t.\t+\t.\tID=gene-BFO_RS05395;Name=BFO_RS05395;gbkey=Gene;gene_biotype=protein_coding;locus_tag=BFO_RS05395;old_locus_tag=BFO_1241\n",
      "NC_016610.1\tRefSeq\tgene\t1339724\t1340116\t.\t+\t.\tID=gene-BFO_RS05400;Name=BFO_RS05400;gbkey=Gene;gene_biotype=protein_coding;locus_tag=BFO_RS05400;old_locus_tag=BFO_1242\n",
      "NC_016610.1\tRefSeq\tgene\t1342199\t1343449\t.\t-\t.\tID=gene-BFO_RS05410;Name=BFO_RS05410;gbkey=Gene;gene_biotype=protein_coding;locus_tag=BFO_RS05410;old_locus_tag=BFO_1244\n",
      "NC_016610.1\tRefSeq\tgene\t1343428\t1343853\t.\t-\t.\tID=gene-BFO_RS05415;Name=BFO_RS05415;gbkey=Gene;gene_biotype=protein_coding;locus_tag=BFO_RS05415;old_locus_tag=BFO_1245\n",
      "NC_016610.1\tRefSeq\tgene\t1344276\t1345325\t.\t+\t.\tID=gene-BFO_RS05420;Name=BFO_RS05420;gbkey=Gene;gene_biotype=protein_coding;locus_tag=BFO_RS05420;old_locus_tag=BFO_1246\n",
      "NC_016610.1\tRefSeq\tgene\t1345328\t1345768\t.\t+\t.\tID=gene-BFO_RS05425;Name=BFO_RS05425;gbkey=Gene;gene_biotype=protein_coding;locus_tag=BFO_RS05425;old_locus_tag=BFO_1247\n",
      "NC_016610.1\tRefSeq\tgene\t1345771\t1346118\t.\t+\t.\tID=gene-BFO_RS05430;Name=BFO_RS05430;gbkey=Gene;gene_biotype=protein_coding;locus_tag=BFO_RS05430;old_locus_tag=BFO_1248\n",
      "NC_016610.1\tRefSeq\tgene\t1346139\t1346873\t.\t+\t.\tID=gene-BFO_RS05435;Name=BFO_RS05435;gbkey=Gene;gene_biotype=protein_coding;locus_tag=BFO_RS05435;old_locus_tag=BFO_1249\n",
      "NC_016610.1\tRefSeq\tgene\t1347076\t1347387\t.\t+\t.\tID=gene-BFO_RS05440;Name=BFO_RS05440;gbkey=Gene;gene_biotype=protein_coding;locus_tag=BFO_RS05440;old_locus_tag=BFO_1250\n",
      "NC_016610.1\tRefSeq\tgene\t1347398\t1347730\t.\t+\t.\tID=gene-BFO_RS05445;Name=BFO_RS05445;gbkey=Gene;gene_biotype=protein_coding;locus_tag=BFO_RS05445;old_locus_tag=BFO_1251\n",
      "NC_016610.1\tRefSeq\tgene\t1350281\t1350661\t.\t+\t.\tID=gene-BFO_RS05455;Name=BFO_RS05455;gbkey=Gene;gene_biotype=protein_coding;locus_tag=BFO_RS05455;old_locus_tag=BFO_1253\n",
      "NC_016610.1\tRefSeq\tgene\t1350685\t1351314\t.\t+\t.\tID=gene-BFO_RS05460;Name=BFO_RS05460;gbkey=Gene;gene_biotype=protein_coding;locus_tag=BFO_RS05460;old_locus_tag=BFO_1254\n",
      "NC_016610.1\tRefSeq\tgene\t1351318\t1352322\t.\t+\t.\tID=gene-BFO_RS05465;Name=traJ;gbkey=Gene;gene=traJ;gene_biotype=protein_coding;locus_tag=BFO_RS05465;old_locus_tag=BFO_1255\n",
      "NC_016610.1\tRefSeq\tgene\t1352354\t1352977\t.\t+\t.\tID=gene-BFO_RS05470;Name=traK;gbkey=Gene;gene=traK;gene_biotype=protein_coding;locus_tag=BFO_RS05470;old_locus_tag=BFO_1256\n",
      "NC_016610.1\tRefSeq\tgene\t1352984\t1353292\t.\t+\t.\tID=gene-BFO_RS05475;Name=BFO_RS05475;gbkey=Gene;gene_biotype=protein_coding;locus_tag=BFO_RS05475;old_locus_tag=BFO_1257\n",
      "NC_016610.1\tRefSeq\tgene\t1353273\t1354622\t.\t+\t.\tID=gene-BFO_RS05480;Name=traM;gbkey=Gene;gene=traM;gene_biotype=protein_coding;locus_tag=BFO_RS05480;old_locus_tag=BFO_1258\n",
      "NC_016610.1\tRefSeq\tgene\t1354678\t1355664\t.\t+\t.\tID=gene-BFO_RS05485;Name=traN;gbkey=Gene;gene=traN;gene_biotype=protein_coding;locus_tag=BFO_RS05485;old_locus_tag=BFO_1259\n",
      "NC_016610.1\tRefSeq\tgene\t1355667\t1356242\t.\t+\t.\tID=gene-BFO_RS05490;Name=BFO_RS05490;gbkey=Gene;gene_biotype=protein_coding;locus_tag=BFO_RS05490;old_locus_tag=BFO_1260\n",
      "NC_016610.1\tRefSeq\tgene\t1356251\t1357120\t.\t+\t.\tID=gene-BFO_RS05495;Name=BFO_RS05495;gbkey=Gene;gene_biotype=protein_coding;locus_tag=BFO_RS05495;old_locus_tag=BFO_1261\n",
      "NC_016610.1\tRefSeq\tgene\t1357146\t1357649\t.\t+\t.\tID=gene-BFO_RS05500;Name=BFO_RS05500;gbkey=Gene;gene_biotype=protein_coding;locus_tag=BFO_RS05500;old_locus_tag=BFO_1262\n",
      "NC_016610.1\tRefSeq\tgene\t1357646\t1358173\t.\t+\t.\tID=gene-BFO_RS05505;Name=BFO_RS05505;gbkey=Gene;gene_biotype=protein_coding;locus_tag=BFO_RS05505\n",
      "NC_016610.1\tRefSeq\tgene\t1358237\t1358458\t.\t-\t.\tID=gene-BFO_RS05510;Name=BFO_RS05510;gbkey=Gene;gene_biotype=protein_coding;locus_tag=BFO_RS05510;old_locus_tag=BFO_1264\n",
      "NC_016610.1\tRefSeq\tgene\t1358576\t1358884\t.\t-\t.\tID=gene-BFO_RS05515;Name=BFO_RS05515;gbkey=Gene;gene_biotype=protein_coding;locus_tag=BFO_RS05515;old_locus_tag=BFO_1265\n",
      "NC_016610.1\tRefSeq\tgene\t1358930\t1359175\t.\t-\t.\tID=gene-BFO_RS05520;Name=BFO_RS05520;gbkey=Gene;gene_biotype=protein_coding;locus_tag=BFO_RS05520;old_locus_tag=BFO_1266\n",
      "NC_016610.1\tRefSeq\tgene\t1359172\t1359405\t.\t-\t.\tID=gene-BFO_RS05525;Name=BFO_RS05525;gbkey=Gene;gene_biotype=protein_coding;locus_tag=BFO_RS05525;old_locus_tag=BFO_1267\n",
      "NC_016610.1\tRefSeq\tgene\t1359426\t1359683\t.\t-\t.\tID=gene-BFO_RS05530;Name=BFO_RS05530;gbkey=Gene;gene_biotype=protein_coding;locus_tag=BFO_RS05530;old_locus_tag=BFO_1268\n",
      "NC_016610.1\tRefSeq\tgene\t1359708\t1360997\t.\t-\t.\tID=gene-BFO_RS05535;Name=BFO_RS05535;gbkey=Gene;gene_biotype=protein_coding;locus_tag=BFO_RS05535;old_locus_tag=BFO_1269\n",
      "NC_016610.1\tRefSeq\tgene\t1361000\t1361422\t.\t-\t.\tID=gene-BFO_RS05540;Name=BFO_RS05540;gbkey=Gene;gene_biotype=protein_coding;locus_tag=BFO_RS05540;old_locus_tag=BFO_1270\n",
      "NC_016610.1\tRefSeq\tgene\t1361436\t1361657\t.\t-\t.\tID=gene-BFO_RS05545;Name=BFO_RS05545;gbkey=Gene;gene_biotype=protein_coding;locus_tag=BFO_RS05545;old_locus_tag=BFO_1271\n",
      "NC_016610.1\tRefSeq\tgene\t1361669\t1361884\t.\t-\t.\tID=gene-BFO_RS14900;Name=BFO_RS14900;gbkey=Gene;gene_biotype=protein_coding;locus_tag=BFO_RS14900;old_locus_tag=BFO_1272\n",
      "NC_016610.1\tRefSeq\tgene\t1362341\t1362532\t.\t+\t.\tID=gene-BFO_RS14040;Name=BFO_RS14040;gbkey=Gene;gene_biotype=protein_coding;locus_tag=BFO_RS14040;old_locus_tag=BFO_1276\n",
      "NC_016610.1\tRefSeq\tgene\t1381026\t1381961\t.\t-\t.\tID=gene-BFO_RS05625;Name=BFO_RS05625;gbkey=Gene;gene_biotype=protein_coding;locus_tag=BFO_RS05625;old_locus_tag=BFO_1301\n",
      "NC_016610.1\tRefSeq\tgene\t1452045\t1452977\t.\t-\t.\tID=gene-BFO_RS05890;Name=BFO_RS05890;gbkey=Gene;gene_biotype=protein_coding;locus_tag=BFO_RS05890;old_locus_tag=BFO_1359\n",
      "NC_016610.1\tRefSeq\tgene\t1469674\t1470876\t.\t+\t.\tID=gene-BFO_RS05980;Name=BFO_RS05980;gbkey=Gene;gene_biotype=protein_coding;locus_tag=BFO_RS05980;old_locus_tag=BFO_1378\n",
      "NC_016610.1\tRefSeq\tgene\t1525276\t1525374\t.\t+\t.\tID=gene-BFO_RS15575;Name=BFO_RS15575;gbkey=Gene;gene_biotype=protein_coding;locus_tag=BFO_RS15575\n",
      "NC_016610.1\tRefSeq\tgene\t1529325\t1529471\t.\t+\t.\tID=gene-BFO_RS15585;Name=BFO_RS15585;gbkey=Gene;gene_biotype=protein_coding;locus_tag=BFO_RS15585;old_locus_tag=BFO_1423\n",
      "NC_016610.1\tRefSeq\tgene\t1538754\t1538894\t.\t-\t.\tID=gene-BFO_RS15590;Name=BFO_RS15590;gbkey=Gene;gene_biotype=protein_coding;locus_tag=BFO_RS15590\n",
      "NC_016610.1\tRefSeq\tgene\t1578808\t1579743\t.\t+\t.\tID=gene-BFO_RS06405;Name=BFO_RS06405;gbkey=Gene;gene_biotype=protein_coding;locus_tag=BFO_RS06405;old_locus_tag=BFO_1472\n",
      "NC_016610.1\tRefSeq\tgene\t1646691\t1647932\t.\t+\t.\tID=gene-BFO_RS06700;Name=BFO_RS06700;gbkey=Gene;gene_biotype=protein_coding;locus_tag=BFO_RS06700;old_locus_tag=BFO_1534\n",
      "NC_016610.1\tRefSeq\tgene\t1903460\t1903600\t.\t-\t.\tID=gene-BFO_RS15615;Name=BFO_RS15615;gbkey=Gene;gene_biotype=protein_coding;locus_tag=BFO_RS15615;old_locus_tag=BFO_1790\n",
      "NC_016610.1\tRefSeq\tgene\t1973742\t1974380\t.\t+\t.\tID=gene-BFO_RS08080;Name=BFO_RS08080;gbkey=Gene;gene_biotype=protein_coding;locus_tag=BFO_RS08080\n",
      "NC_016610.1\tRefSeq\tgene\t2044443\t2044583\t.\t-\t.\tID=gene-BFO_RS15625;Name=BFO_RS15625;gbkey=Gene;gene_biotype=protein_coding;locus_tag=BFO_RS15625;old_locus_tag=BFO_1919\n",
      "NC_016610.1\tRefSeq\tgene\t2082346\t2083659\t.\t-\t.\tID=gene-BFO_RS08520;Name=BFO_RS08520;gbkey=Gene;gene_biotype=protein_coding;locus_tag=BFO_RS08520;old_locus_tag=BFO_1956\n",
      "NC_016610.1\tRefSeq\tgene\t2086535\t2089165\t.\t+\t.\tID=gene-BFO_RS14470;Name=BFO_RS14470;gbkey=Gene;gene_biotype=protein_coding;locus_tag=BFO_RS14470;old_locus_tag=BFO_1959\n",
      "NC_016610.1\tRefSeq\tgene\t2101752\t2102051\t.\t-\t.\tID=gene-BFO_RS08595;Name=BFO_RS08595;gbkey=Gene;gene_biotype=protein_coding;locus_tag=BFO_RS08595;old_locus_tag=BFO_1971\n",
      "NC_016610.1\tRefSeq\tgene\t2101988\t2102878\t.\t-\t.\tID=gene-BFO_RS08600;Name=BFO_RS08600;gbkey=Gene;gene_biotype=protein_coding;locus_tag=BFO_RS08600;old_locus_tag=BFO_1972\n",
      "NC_016610.1\tRefSeq\tgene\t2103938\t2104021\t.\t-\t.\tID=gene-BFO_RS08610;Name=BFO_RS08610;gbkey=Gene;gene_biotype=tRNA;locus_tag=BFO_RS08610;old_locus_tag=BFO_1974\n",
      "NC_016610.1\tRefSeq\tgene\t2198059\t2198994\t.\t-\t.\tID=gene-BFO_RS08945;Name=BFO_RS08945;gbkey=Gene;gene_biotype=protein_coding;locus_tag=BFO_RS08945;old_locus_tag=BFO_2049\n",
      "NC_016610.1\tRefSeq\tgene\t2200961\t2201086\t.\t+\t.\tID=gene-BFO_RS15050;Name=BFO_RS15050;gbkey=Gene;gene_biotype=protein_coding;locus_tag=BFO_RS15050;old_locus_tag=BFO_2054\n",
      "NC_016610.1\tRefSeq\tgene\t2201100\t2201354\t.\t+\t.\tID=gene-BFO_RS08970;Name=BFO_RS08970;gbkey=Gene;gene_biotype=protein_coding;locus_tag=BFO_RS08970;old_locus_tag=BFO_2055\n",
      "NC_016610.1\tRefSeq\tgene\t2204853\t2205959\t.\t-\t.\tID=gene-BFO_RS09000;Name=BFO_RS09000;gbkey=Gene;gene_biotype=protein_coding;locus_tag=BFO_RS09000;old_locus_tag=BFO_2062\n",
      "NC_016610.1\tRefSeq\tgene\t2205956\t2207791\t.\t-\t.\tID=gene-BFO_RS09005;Name=BFO_RS09005;gbkey=Gene;gene_biotype=protein_coding;locus_tag=BFO_RS09005;old_locus_tag=BFO_2063\n",
      "NC_016610.1\tRefSeq\tgene\t2207796\t2208878\t.\t-\t.\tID=gene-BFO_RS09010;Name=BFO_RS09010;gbkey=Gene;gene_biotype=protein_coding;locus_tag=BFO_RS09010;old_locus_tag=BFO_2064\n",
      "NC_016610.1\tRefSeq\tgene\t2241458\t2241703\t.\t+\t.\tID=gene-BFO_RS09120;Name=BFO_RS09120;gbkey=Gene;gene_biotype=protein_coding;locus_tag=BFO_RS09120;old_locus_tag=BFO_2089\n",
      "NC_016610.1\tRefSeq\tgene\t2260842\t2261039\t.\t-\t.\tID=gene-BFO_RS15650;Name=BFO_RS15650;gbkey=Gene;gene_biotype=protein_coding;locus_tag=BFO_RS15650;old_locus_tag=BFO_2109\n",
      "NC_016610.1\tRefSeq\tgene\t2287081\t2287154\t.\t-\t.\tID=gene-BFO_RS09310;Name=BFO_RS09310;gbkey=Gene;gene_biotype=tRNA;locus_tag=BFO_RS09310;old_locus_tag=BFO_2135\n",
      "NC_016610.1\tRefSeq\tgene\t2547384\t2549258\t.\t+\t.\tID=gene-BFO_RS10325;Name=BFO_RS10325;gbkey=Gene;gene_biotype=protein_coding;locus_tag=BFO_RS10325;old_locus_tag=BFO_2514\n",
      "NC_016610.1\tRefSeq\tgene\t2589861\t2590067\t.\t-\t.\tID=gene-BFO_RS15945;Name=BFO_RS15945;gbkey=Gene;gene_biotype=protein_coding;locus_tag=BFO_RS15945;old_locus_tag=BFO_2559\n",
      "NC_016610.1\tRefSeq\tgene\t2695376\t2695609\t.\t+\t.\tID=gene-BFO_RS15135;Name=BFO_RS15135;gbkey=Gene;gene_biotype=protein_coding;locus_tag=BFO_RS15135\n",
      "NC_016610.1\tRefSeq\tgene\t2711892\t2712032\t.\t+\t.\tID=gene-BFO_RS15880;Name=BFO_RS15880;gbkey=Gene;gene_biotype=protein_coding;locus_tag=BFO_RS15880;old_locus_tag=BFO_2682\n",
      "NC_016610.1\tRefSeq\tgene\t2796186\t2797427\t.\t-\t.\tID=gene-BFO_RS11390;Name=BFO_RS11390;gbkey=Gene;gene_biotype=protein_coding;locus_tag=BFO_RS11390;old_locus_tag=BFO_2768\n",
      "NC_016610.1\tRefSeq\tgene\t2814852\t2814989\t.\t-\t.\tID=gene-BFO_RS15685;Name=BFO_RS15685;gbkey=Gene;gene_biotype=protein_coding;locus_tag=BFO_RS15685;old_locus_tag=BFO_2786\n",
      "NC_016610.1\tRefSeq\tgene\t2883101\t2884414\t.\t+\t.\tID=gene-BFO_RS11745;Name=BFO_RS11745;gbkey=Gene;gene_biotype=protein_coding;locus_tag=BFO_RS11745;old_locus_tag=BFO_2855\n",
      "NC_016610.1\tRefSeq\tgene\t3059218\t3059385\t.\t-\t.\tID=gene-BFO_RS15705;Name=BFO_RS15705;gbkey=Gene;gene_biotype=protein_coding;locus_tag=BFO_RS15705\n",
      "NC_016610.1\tRefSeq\tgene\t3112145\t3112930\t.\t-\t.\tID=gene-BFO_RS12655;Name=BFO_RS12655;gbkey=Gene;gene_biotype=protein_coding;locus_tag=BFO_RS12655;old_locus_tag=BFO_3063\n",
      "NC_016610.1\tRefSeq\tgene\t3112947\t3113645\t.\t-\t.\tID=gene-BFO_RS12660;Name=BFO_RS12660;gbkey=Gene;gene_biotype=protein_coding;locus_tag=BFO_RS12660;old_locus_tag=BFO_3064\n",
      "NC_016610.1\tRefSeq\tgene\t3113731\t3114522\t.\t-\t.\tID=gene-BFO_RS12665;Name=BFO_RS12665;gbkey=Gene;gene_biotype=protein_coding;locus_tag=BFO_RS12665;old_locus_tag=BFO_3065\n",
      "NC_016610.1\tRefSeq\tgene\t3114539\t3115237\t.\t-\t.\tID=gene-BFO_RS12670;Name=BFO_RS12670;gbkey=Gene;gene_biotype=protein_coding;locus_tag=BFO_RS12670;old_locus_tag=BFO_3066\n",
      "NC_016610.1\tRefSeq\tgene\t3115323\t3116045\t.\t-\t.\tID=gene-BFO_RS12675;Name=BFO_RS12675;gbkey=Gene;gene_biotype=protein_coding;locus_tag=BFO_RS12675;old_locus_tag=BFO_3067\n",
      "NC_016610.1\tRefSeq\tgene\t3116063\t3116749\t.\t-\t.\tID=gene-BFO_RS12680;Name=BFO_RS12680;gbkey=Gene;gene_biotype=protein_coding;locus_tag=BFO_RS12680;old_locus_tag=BFO_3068\n",
      "NC_016610.1\tRefSeq\tgene\t3116938\t3117726\t.\t-\t.\tID=gene-BFO_RS12685;Name=BFO_RS12685;gbkey=Gene;gene_biotype=protein_coding;locus_tag=BFO_RS12685;old_locus_tag=BFO_3070\n",
      "NC_016610.1\tRefSeq\tgene\t3117743\t3118441\t.\t-\t.\tID=gene-BFO_RS12690;Name=BFO_RS12690;gbkey=Gene;gene_biotype=protein_coding;locus_tag=BFO_RS12690;old_locus_tag=BFO_3071\n",
      "NC_016610.1\tRefSeq\tgene\t3215505\t3215729\t.\t+\t.\tID=gene-BFO_RS15725;Name=BFO_RS15725;gbkey=Gene;gene_biotype=protein_coding;locus_tag=BFO_RS15725;old_locus_tag=BFO_3160\n",
      "NC_016610.1\tRefSeq\tgene\t3225928\t3226395\t.\t-\t.\tID=gene-BFO_RS15730;Name=BFO_RS15730;gbkey=Gene;gene_biotype=protein_coding;locus_tag=BFO_RS15730\n",
      "NC_016610.1\tRefSeq\tgene\t3226577\t3227158\t.\t-\t.\tID=gene-BFO_RS13130;Name=BFO_RS13130;gbkey=Gene;gene_biotype=protein_coding;locus_tag=BFO_RS13130;old_locus_tag=BFO_3182\n",
      "NC_016610.1\tRefSeq\tgene\t3229092\t3231389\t.\t+\t.\tID=gene-BFO_RS15735;Name=BFO_RS15735;gbkey=Gene;gene_biotype=protein_coding;locus_tag=BFO_RS15735\n",
      "NC_016610.1\tRefSeq\tgene\t3231568\t3232164\t.\t+\t.\tID=gene-BFO_RS14620;Name=BFO_RS14620;gbkey=Gene;gene_biotype=protein_coding;locus_tag=BFO_RS14620;old_locus_tag=BFO_3185\n",
      "NC_016610.1\tRefSeq\tgene\t3232212\t3233021\t.\t+\t.\tID=gene-BFO_RS13145;Name=BFO_RS13145;gbkey=Gene;gene_biotype=protein_coding;locus_tag=BFO_RS13145;old_locus_tag=BFO_3186\n",
      "NC_016610.1\tRefSeq\tgene\t3233014\t3234144\t.\t+\t.\tID=gene-BFO_RS13150;Name=BFO_RS13150;gbkey=Gene;gene_biotype=protein_coding;locus_tag=BFO_RS13150;old_locus_tag=BFO_3187\n",
      "NC_016610.1\tRefSeq\tgene\t3234168\t3236420\t.\t+\t.\tID=gene-BFO_RS13155;Name=BFO_RS13155;gbkey=Gene;gene_biotype=protein_coding;locus_tag=BFO_RS13155;old_locus_tag=BFO_3188\n",
      "NC_016610.1\tRefSeq\tgene\t3236417\t3237151\t.\t+\t.\tID=gene-BFO_RS13160;Name=BFO_RS13160;gbkey=Gene;gene_biotype=protein_coding;locus_tag=BFO_RS13160;old_locus_tag=BFO_3189\n",
      "NC_016610.1\tRefSeq\tgene\t3237163\t3238569\t.\t+\t.\tID=gene-BFO_RS13165;Name=BFO_RS13165;gbkey=Gene;gene_biotype=protein_coding;locus_tag=BFO_RS13165;old_locus_tag=BFO_3190\n",
      "NC_016610.1\tRefSeq\tgene\t3241063\t3241590\t.\t+\t.\tID=gene-BFO_RS13175;Name=BFO_RS13175;gbkey=Gene;gene_biotype=protein_coding;locus_tag=BFO_RS13175;old_locus_tag=BFO_3194\n",
      "NC_016610.1\tRefSeq\tgene\t3252069\t3252263\t.\t-\t.\tID=gene-BFO_RS13225;Name=BFO_RS13225;gbkey=Gene;gene_biotype=protein_coding;locus_tag=BFO_RS13225;old_locus_tag=BFO_3205\n",
      "NC_016610.1\tRefSeq\tgene\t3255124\t3257469\t.\t-\t.\tID=gene-BFO_RS13240;Name=BFO_RS13240;gbkey=Gene;gene_biotype=protein_coding;locus_tag=BFO_RS13240;old_locus_tag=BFO_3208\n",
      "NC_016610.1\tRefSeq\tgene\t3257481\t3258878\t.\t-\t.\tID=gene-BFO_RS13245;Name=BFO_RS13245;gbkey=Gene;gene_biotype=protein_coding;locus_tag=BFO_RS13245;old_locus_tag=BFO_3209\n",
      "NC_016610.1\tRefSeq\tgene\t3262392\t3262700\t.\t+\t.\tID=gene-BFO_RS15955;Name=BFO_RS15955;gbkey=Gene;gene_biotype=protein_coding;locus_tag=BFO_RS15955\n",
      "NC_016610.1\tRefSeq\tgene\t3262757\t3264214\t.\t+\t.\tID=gene-BFO_RS14630;Name=BFO_RS14630;gbkey=Gene;gene_biotype=protein_coding;locus_tag=BFO_RS14630;old_locus_tag=BFO_3215\n",
      "NC_016610.1\tRefSeq\tgene\t3264217\t3264762\t.\t+\t.\tID=gene-BFO_RS13270;Name=BFO_RS13270;gbkey=Gene;gene_biotype=protein_coding;locus_tag=BFO_RS13270;old_locus_tag=BFO_3216\n",
      "NC_016610.1\tRefSeq\tgene\t3266825\t3267727\t.\t+\t.\tID=gene-BFO_RS13285;Name=traN;gbkey=Gene;gene=traN;gene_biotype=protein_coding;locus_tag=BFO_RS13285;old_locus_tag=BFO_3222\n",
      "NC_016610.1\tRefSeq\tgene\t3267721\t3268299\t.\t+\t.\tID=gene-BFO_RS13290;Name=BFO_RS13290;gbkey=Gene;gene_biotype=protein_coding;locus_tag=BFO_RS13290;old_locus_tag=BFO_3223\n",
      "NC_016610.1\tRefSeq\tgene\t3268312\t3268776\t.\t+\t.\tID=gene-BFO_RS13295;Name=BFO_RS13295;gbkey=Gene;gene_biotype=protein_coding;locus_tag=BFO_RS13295;old_locus_tag=BFO_3224\n",
      "NC_016610.1\tRefSeq\tgene\t3269131\t3269589\t.\t-\t.\tID=gene-BFO_RS13300;Name=BFO_RS13300;gbkey=Gene;gene_biotype=protein_coding;locus_tag=BFO_RS13300;old_locus_tag=BFO_3227\n",
      "NC_016610.1\tRefSeq\tgene\t3270052\t3270477\t.\t+\t.\tID=gene-BFO_RS13305;Name=BFO_RS13305;gbkey=Gene;gene_biotype=protein_coding;locus_tag=BFO_RS13305;old_locus_tag=BFO_3228\n",
      "NC_016610.1\tRefSeq\tgene\t3270490\t3270894\t.\t+\t.\tID=gene-BFO_RS13310;Name=BFO_RS13310;gbkey=Gene;gene_biotype=protein_coding;locus_tag=BFO_RS13310\n",
      "NC_016610.1\tRefSeq\tgene\t3270905\t3271996\t.\t+\t.\tID=gene-BFO_RS13315;Name=BFO_RS13315;gbkey=Gene;gene_biotype=protein_coding;locus_tag=BFO_RS13315;old_locus_tag=BFO_3231\n",
      "NC_016610.1\tRefSeq\tgene\t3272472\t3272675\t.\t+\t.\tID=gene-BFO_RS15745;Name=BFO_RS15745;gbkey=Gene;gene_biotype=protein_coding;locus_tag=BFO_RS15745\n",
      "NC_016610.1\tRefSeq\tgene\t3272753\t3273286\t.\t+\t.\tID=gene-BFO_RS13325;Name=BFO_RS13325;gbkey=Gene;gene_biotype=protein_coding;locus_tag=BFO_RS13325\n",
      "NC_016610.1\tRefSeq\tgene\t3273661\t3273852\t.\t-\t.\tID=gene-BFO_RS13335;Name=BFO_RS13335;gbkey=Gene;gene_biotype=protein_coding;locus_tag=BFO_RS13335;old_locus_tag=BFO_3233\n",
      "NC_016610.1\tRefSeq\tgene\t3274075\t3274377\t.\t-\t.\tID=gene-BFO_RS15750;Name=BFO_RS15750;gbkey=Gene;gene_biotype=protein_coding;locus_tag=BFO_RS15750\n",
      "NC_016610.1\tRefSeq\tgene\t3311293\t3312495\t.\t-\t.\tID=gene-BFO_RS13515;Name=BFO_RS13515;gbkey=Gene;gene_biotype=protein_coding;locus_tag=BFO_RS13515;old_locus_tag=BFO_3278\n",
      "\n"
     ]
    }
   ],
   "source": [
    "print(output_text)"
   ]
  }
 ],
 "metadata": {
  "kernelspec": {
   "display_name": "Python 3",
   "language": "python",
   "name": "python3"
  },
  "language_info": {
   "codemirror_mode": {
    "name": "ipython",
    "version": 3
   },
   "file_extension": ".py",
   "mimetype": "text/x-python",
   "name": "python",
   "nbconvert_exporter": "python",
   "pygments_lexer": "ipython3",
   "version": "3.8.3"
  }
 },
 "nbformat": 4,
 "nbformat_minor": 4
}
