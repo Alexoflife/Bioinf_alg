{
 "cells": [
  {
   "cell_type": "code",
   "execution_count": 7,
   "metadata": {},
   "outputs": [],
   "source": [
    "def affine_gap_alignment(seq1, seq2, weight_match=2, weight_mismatch=-7, open_gap_penalty=-10, continue_gap_penalty=-1):\n",
    "    def match(seq1, seq2, i, j):\n",
    "        if seq2[i-1] == seq1[j-1]:\n",
    "            return weight_match\n",
    "        else:\n",
    "            return weight_mismatch   \n",
    "    n = len(seq2); m = len(seq1)\n",
    "    Min = -float(\"inf\")\n",
    "    H_matrix = [[0] * (m+1) for i in range(n+1)]\n",
    "    V_matrix = [[0] * (m+1) for i in range(n+1)]\n",
    "    D_matrix = [[0] * (m+1) for i in range(n+1)]\n",
    "    for i in range(n+1):\n",
    "        for j in range(m+1):\n",
    "            if i > 0 and j == 0:\n",
    "                H_matrix[i][j] = Min\n",
    "            if (j > 0 and i > 0) or (j > 0 and i == 0):\n",
    "                H_matrix[i][j] = open_gap_penalty + (continue_gap_penalty * j)\n",
    "            if j == 0 and i == 0:\n",
    "                H_matrix[i][j] = 0\n",
    "                V_matrix[i][j] = 0\n",
    "                D_matrix[i][j] = 0\n",
    "            if j > 0 and i == 0:\n",
    "                V_matrix[i][j] = Min\n",
    "            if (i > 0 and j > 0) or (i > 0 and j == 0):\n",
    "                V_matrix[i][j] = open_gap_penalty + (continue_gap_penalty * i)\n",
    "            if (i == 0 and j != 0) or (i != 0 and j == 0):\n",
    "                D_matrix[i][j] = Min\n",
    "            if i != 0 and j != 0:\n",
    "                D_matrix[i][j] = 0\n",
    "    for i in range(1, n+1):\n",
    "        for j in range(1, m+1):\n",
    "            H_matrix[i][j] = max(open_gap_penalty + continue_gap_penalty + D_matrix[i][j-1], continue_gap_penalty + H_matrix[i][j-1], open_gap_penalty + continue_gap_penalty + V_matrix[i][j-1])\n",
    "            V_matrix[i][j] = max(open_gap_penalty + continue_gap_penalty + D_matrix[i-1][j], open_gap_penalty + continue_gap_penalty + H_matrix[i-1][j], continue_gap_penalty + V_matrix[i-1][j])\n",
    "            D_matrix[i][j] = max(match(seq1, seq2, i, j) + D_matrix[i-1][j-1], H_matrix[i][j], V_matrix[i][j])\n",
    "    Align_seq1 = \"\"\n",
    "    Align_seq2 = \"\"\n",
    "    while i > 0 or j > 0:\n",
    "        if i > 0 and j > 0 and (D_matrix[i][j] == D_matrix[i-1][j-1] + match(seq1, seq2, i, j)):\n",
    "            Align_seq1 = seq1[j-1] + Align_seq1\n",
    "            Align_seq2 = seq2[i-1] + Align_seq2\n",
    "            i -= 1\n",
    "            j -= 1\n",
    "\n",
    "        elif i > 0 and (D_matrix[i][j] == V_matrix[i][j]):\n",
    "            Align_seq1 = \"_\" + Align_seq1 \n",
    "            Align_seq2 = seq2[i-1] + Align_seq2 \n",
    "            i -= 1\n",
    "        elif j > 0 and (D_matrix[i][j] == H_matrix[i][j]):\n",
    "            Align_seq1 = seq1[j-1] + Align_seq1\n",
    "            Align_seq2 = \"_\" + Align_seq2\n",
    "            j -= 1\n",
    "        \n",
    "    return(Align_seq1, Align_seq2)"
   ]
  },
  {
   "cell_type": "code",
   "execution_count": 11,
   "metadata": {},
   "outputs": [
    {
     "name": "stdout",
     "output_type": "stream",
     "text": [
      "('fdsnfhusd____', 'f______siufsh')\n",
      "('fdsnfhusd', 'f_siuf_sh')\n"
     ]
    }
   ],
   "source": [
    "print(affine_gap_alignment(\"fdsnfhusd\", \"fsiufsh\", open_gap_penalty=-10, continue_gap_penalty=-1))\n",
    "\n",
    "print(affine_gap_alignment(\"fdsnfhusd\", \"fsiufsh\", open_gap_penalty=-8, continue_gap_penalty=-2))"
   ]
  }
 ],
 "metadata": {
  "kernelspec": {
   "display_name": "Python 3",
   "language": "python",
   "name": "python3"
  },
  "language_info": {
   "codemirror_mode": {
    "name": "ipython",
    "version": 3
   },
   "file_extension": ".py",
   "mimetype": "text/x-python",
   "name": "python",
   "nbconvert_exporter": "python",
   "pygments_lexer": "ipython3",
   "version": "3.8.3"
  }
 },
 "nbformat": 4,
 "nbformat_minor": 4
}
