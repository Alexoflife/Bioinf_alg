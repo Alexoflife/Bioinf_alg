{
 "cells": [
  {
   "cell_type": "markdown",
   "metadata": {},
   "source": [
    "## 23andMe data - “FixMyProfessor.com”"
   ]
  },
  {
   "cell_type": "markdown",
   "metadata": {},
   "source": [
    "1.) Install plink1.9 and convert data to vcf: \n",
    "\n",
    "\n",
    "**plink1.9  --23file SNP_raw_v4_Full_20170514175358.txt --recode vcf --out SNP_raw_v4_Full_20170514175358**"
   ]
  },
  {
   "cell_type": "markdown",
   "metadata": {},
   "source": [
    "## Annotation"
   ]
  },
  {
   "cell_type": "markdown",
   "metadata": {},
   "source": [
    "**java -jar SnpSift.jar annotate clinvar.vcf  snps_clean.vcf > snps_clean_snpsift_clinvar.vcf**\n",
    "\n",
    "\n",
    "**snps_clean_snpsift_clinvar.vcf | grep CLNDN**"
   ]
  },
  {
   "cell_type": "markdown",
   "metadata": {},
   "source": [
    "Download gwas_catalog"
   ]
  },
  {
   "cell_type": "markdown",
   "metadata": {},
   "source": [
    "**java -jar snpEff/SnpSift.jar gwasCat -db gwas_catalog_v1.0-associations_e100_r2021-02-25.tsv snps_clean.vcf > snps_clean_gwascat.vcf**\n"
   ]
  },
  {
   "cell_type": "markdown",
   "metadata": {},
   "source": [
    "**cat snps_clean_gwascat.vcf | grep GWASCAT_TRAIT > grep_gwas.vcf** "
   ]
  },
  {
   "cell_type": "markdown",
   "metadata": {},
   "source": [
    "## Haplogroups"
   ]
  },
  {
   "cell_type": "markdown",
   "metadata": {},
   "source": [
    "_mtDNA - https://dna.jameslick.com/_"
   ]
  },
  {
   "cell_type": "markdown",
   "metadata": {},
   "source": [
    "_Y - https://ytree.morleydna.com/_"
   ]
  },
  {
   "cell_type": "markdown",
   "metadata": {},
   "source": [
    "## FIXES"
   ]
  },
  {
   "cell_type": "markdown",
   "metadata": {},
   "source": [
    "1) (**rs872071\tA ---- G**) 'G' - 1.5x increased risk for chronic lymphocytic leukemia\n",
    "\n",
    "2) (**rs11242982\tC ---- T**) 'T' - Male-pattern baldness\n",
    "\n",
    "3) (**rs2476847    C ---- T**) '?' - Inflammatory skin disease\n",
    "\n",
    "4) (**rs755383\tC ---- T**) 'T' - Testicular germ cell cancer\n",
    "\n",
    "5) (**rs1323230\tC ---- T**) '?' - Adolescent idiopathic scoliosis"
   ]
  },
  {
   "cell_type": "markdown",
   "metadata": {},
   "source": [
    "## Improvements"
   ]
  },
  {
   "cell_type": "markdown",
   "metadata": {},
   "source": [
    "1) (**rs2867125\tC ---- T**)  bode mass index. **'C'** in **rs2867125** leads to obesity\n",
    "\n",
    "2) (**rs74758148 A ---- G**) hair color blond/black **A** leads to blonde\n",
    "\n",
    "3) (**rs6918152\tA ---- G**) hair color blond/black **A** leads to blonde\n",
    "\n",
    "4) (**rs4742269 A ---- G**) '?' response to radiation\n",
    "\n",
    "5) (**rs842304\tA ---- C**) '?' HIV-1 susceptibility "
   ]
  }
 ],
 "metadata": {
  "kernelspec": {
   "display_name": "Python 3",
   "language": "python",
   "name": "python3"
  },
  "language_info": {
   "codemirror_mode": {
    "name": "ipython",
    "version": 3
   },
   "file_extension": ".py",
   "mimetype": "text/x-python",
   "name": "python",
   "nbconvert_exporter": "python",
   "pygments_lexer": "ipython3",
   "version": "3.6.9"
  }
 },
 "nbformat": 4,
 "nbformat_minor": 4
}
