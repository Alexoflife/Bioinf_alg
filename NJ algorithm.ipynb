{
 "cells": [
  {
   "cell_type": "code",
   "execution_count": 3,
   "metadata": {},
   "outputs": [],
   "source": [
    "matrix_1 = [[0,'A',  'B', 'C',  'D'],\n",
    "          ['A',  0,   16,  16,  10], \n",
    "          ['B',  0,    0,   8,  8],\n",
    "          ['C',  0,    0,   0,  4],\n",
    "          ['D',  0,    0,   0,  0]]\n",
    "\n",
    "matrix_2 = [[0,  'A', 'B', 'C', 'D', 'E', 'F'],\n",
    "            ['A', 0,   5,   4,   7,   6,   8], \n",
    "            ['B', 0,   0,   7,  10,   9,  11],\n",
    "            ['C', 0,   0,   0,   7,   6,   8],\n",
    "            ['D', 0,   0,   0,   0,   5,   9],\n",
    "            ['E', 0,   0,   0,   0,   0,   8],\n",
    "            ['F', 0,   0,   0,   0,   0,   0]]"
   ]
  },
  {
   "cell_type": "code",
   "execution_count": 15,
   "metadata": {},
   "outputs": [],
   "source": [
    "def toFixed(numObj, digits=0):\n",
    "    return f\"{numObj:.{digits}f}\""
   ]
  },
  {
   "cell_type": "code",
   "execution_count": 58,
   "metadata": {},
   "outputs": [
    {
     "data": {
      "text/plain": [
       "'((A:1.50,C:2.50):0.25,(B:4.50,F:6.50):-0.75,(D:4.00,E:1.00):1.75)'"
      ]
     },
     "execution_count": 58,
     "metadata": {},
     "output_type": "execute_result"
    }
   ],
   "source": [
    "def NJ(matrix):\n",
    "    n = len(matrix) - 1\n",
    "    newick_dict = {}\n",
    "    last = n-3\n",
    "    for k in range(n-2):\n",
    "        sum_dict = {matrix[i][0] : 0 for i in range(1, n+1)}\n",
    "        add_dict = {}\n",
    "        min_Q = float('inf')\n",
    "        for i in range(1, n):\n",
    "            for j in range(i+1, n+1):\n",
    "                sum_dict[matrix[i][0]] += matrix[i][j]\n",
    "                sum_dict[matrix[0][j]] += matrix[i][j]\n",
    "        for i in range(1, n):\n",
    "            for j in range(i+1, n+1):\n",
    "                if ((n/(n-2))*matrix[i][j] - sum_dict[matrix[0][j]] - sum_dict[matrix[i][0]]) < min_Q:\n",
    "                    min_Q = (n/(n-2))*matrix[i][j] - sum_dict[matrix[0][j]] - sum_dict[matrix[i][0]]\n",
    "                    i_min, j_min = i, j\n",
    "                elif ((n/(n-2))*matrix[i][j] - sum_dict[matrix[0][j]] - sum_dict[matrix[i][0]]) == min_Q:\n",
    "                    if (abs(sum_dict[matrix[0][j]] - sum_dict[matrix[i][0]])*(-1) + matrix[i][j]) >= (abs(sum_dict[matrix[0][j_min]] - sum_dict[matrix[i_min][0]])*(-1) + matrix[i_min][j_min]):\n",
    "                        min_Q = (n/(n-2))*matrix[i][j] - sum_dict[matrix[0][j]] - sum_dict[matrix[i][0]]\n",
    "                        i_min, j_min = i, j\n",
    "        new_node = ''.join(sorted(matrix[i_min][0] + matrix[0][j_min]))\n",
    "        d_1 = 0.5 * (matrix[i_min][j_min] + sum_dict[matrix[i_min][0]] - sum_dict[matrix[0][j_min]])\n",
    "        d_2 = 0.5 * (matrix[i_min][j_min] - sum_dict[matrix[i_min][0]] + sum_dict[matrix[0][j_min]])\n",
    "        if k != last:\n",
    "            if (matrix[i_min][0] not in newick_dict) and (matrix[0][j_min] not in newick_dict):\n",
    "                newick_dict[new_node] = '(' + matrix[i_min][0] + ':' + toFixed(d_1, 2) + ',' + matrix[0][j_min] + ':' + toFixed(d_2, 2) + ')' \n",
    "            elif (matrix[i_min][0] not in newick_dict) and (matrix[0][j_min] in newick_dict):\n",
    "                newick_dict[new_node] = '(' + matrix[i_min][0] + ':' + toFixed(d_1, 2) + ',' + newick_dict[matrix[0][j_min]] + ':' + toFixed(d_2, 2) + ')' \n",
    "            elif (matrix[i_min][0] in newick_dict) and (matrix[0][j_min] not in newick_dict):\n",
    "                newick_dict[new_node] = '(' + newick_dict[matrix[i_min][0]] + ':' + toFixed(d_1, 2) + ',' + matrix[0][j_min] + ':' + toFixed(d_2, 2) + ')'\n",
    "            elif (matrix[i_min][0] in newick_dict) and (matrix[0][j_min] in newick_dict):\n",
    "                newick_dict[new_node] = '(' + newick_dict[matrix[i_min][0]] + ':' + toFixed(d_1, 2) + ',' + newick_dict[matrix[0][j_min]] + ':' + toFixed(d_2, 2) + ')'\n",
    "        new_matrix = [[0 for t in range(n)] for t in range(n)]\n",
    "        new_matrix[0][1], new_matrix[1][0] = new_node, new_node\n",
    "        i = 2\n",
    "        for j in range(1, n+1):\n",
    "            if matrix[0][j][0] not in new_matrix[0][1]:\n",
    "                new_matrix[0][i] = matrix[0][j]\n",
    "                new_matrix[i][0] = matrix[0][j]\n",
    "                i += 1\n",
    "        for i in range(1, n):\n",
    "            for j in range(i+1, n+1):\n",
    "                if ((matrix[0][j][0] not in new_node) and  (matrix[i][0][0] in new_node)) and  (''.join(sorted(matrix[0][j] + new_node)) not in add_dict)  :\n",
    "                    add_dict[''.join(sorted(matrix[0][j] + new_node))] = matrix[i][j]\n",
    "                elif ((matrix[0][j][0] not in new_node) and  (matrix[i][0][0] in new_node)) and  (''.join(sorted(matrix[0][j] + new_node)) in add_dict):\n",
    "                    add_dict[''.join(sorted(matrix[0][j] + new_node))] += matrix[i][j]\n",
    "                elif ((matrix[0][j][0] in new_node) and  (matrix[i][0][0] not in new_node)) and  (''.join(sorted(matrix[i][0] + new_node)) not in add_dict):\n",
    "                    add_dict[''.join(sorted(matrix[i][0] + new_node))] = matrix[i][j]\n",
    "                elif ((matrix[0][j][0] in new_node) and  (matrix[i][0][0] not in new_node)) and  (''.join(sorted(matrix[i][0] + new_node)) in add_dict):\n",
    "                    add_dict[''.join(sorted(matrix[i][0] + new_node))] += matrix[i][j]\n",
    "                elif ((matrix[0][j][0] not in new_node) and  (matrix[i][0][0] not in new_node)):\n",
    "                    add_dict[''.join(sorted(matrix[i][0] + matrix[0][j]))] = matrix[i][j]\n",
    "        for i in range(1,n-1):\n",
    "            for j in range(i+1, n):\n",
    "                if ((new_matrix[0][j][0] not in new_node) and  (new_matrix[i][0][0] not in new_node)):\n",
    "                    new_matrix[i][j] = add_dict[''.join(sorted(new_matrix[i][0] + new_matrix[0][j]))]\n",
    "                else:\n",
    "                    new_matrix[i][j] =+ 0.5 * (add_dict[''.join(sorted(new_matrix[i][0] + new_matrix[0][j]))] - matrix[i_min][j_min])\n",
    "        if k == last:\n",
    "            if new_matrix[0][2] not in newick_dict:\n",
    "                if (matrix[i_min][0] not in newick_dict) and (matrix[0][j_min] not in newick_dict):\n",
    "                    newick_dict[new_node] = '(' + matrix[i_min][0] + ':' + toFixed(d_1, 2) + ',' + matrix[0][j_min] + ':' + toFixed(d_2, 2) + ',' + new_matrix[0][2] + ':' + toFixed(new_matrix[1][2], 2) + ')' \n",
    "                elif (matrix[i_min][0] not in newick_dict) and (matrix[0][j_min] in newick_dict):\n",
    "                    newick_dict[new_node] = '(' + matrix[i_min][0] + ':' + toFixed(d_1, 2) + ',' + newick_dict[matrix[0][j_min]] + ':' + toFixed(d_2, 2) + ',' + new_matrix[0][2] + ':' + toFixed(new_matrix[1][2], 2) + ')'\n",
    "                elif (matrix[i_min][0] in newick_dict) and (matrix[0][j_min] not in newick_dict):\n",
    "                    newick_dict[new_node] = '(' + newick_dict[matrix[i_min][0]] + ':' + toFixed(d_1, 2) + ',' + matrix[0][j_min] + ':' + toFixed(d_2, 2) + ',' + new_matrix[0][2] + ':' + toFixed(new_matrix[1][2], 2) + ')'\n",
    "                elif (matrix[i_min][0] in newick_dict) and (matrix[0][j_min] in newick_dict):\n",
    "                    newick_dict[new_node] = '(' + newick_dict[matrix[i_min][0]] + ':' + toFixed(d_1, 2) + ',' + newick_dict[matrix[0][j_min]] + ':' + toFixed(d_2, 2) + ',' + new_matrix[0][2] + ':' + toFixed(new_matrix[1][2], 2) + ')'\n",
    "            else:\n",
    "                if (matrix[i_min][0] not in newick_dict) and (matrix[0][j_min] not in newick_dict):\n",
    "                    newick_dict[new_node] = '(' + matrix[i_min][0] + ':' + toFixed(d_1, 2) + ',' + matrix[0][j_min] + ':' + toFixed(d_2, 2) + ',' + newick_dict[new_matrix[0][2]] + ':' + toFixed(new_matrix[1][2], 2) + ')' \n",
    "                elif (matrix[i_min][0] not in newick_dict) and (matrix[0][j_min] in newick_dict):\n",
    "                    newick_dict[new_node] = '(' + matrix[i_min][0] + ':' + toFixed(d_1, 2) + ',' + newick_dict[matrix[0][j_min]] + ':' + toFixed(d_2, 2) + ',' + newick_dict[new_matrix[0][2]] + ':' + toFixed(new_matrix[1][2], 2) + ')'\n",
    "                elif (matrix[i_min][0] in newick_dict) and (matrix[0][j_min] not in newick_dict):\n",
    "                    newick_dict[new_node] = '(' + newick_dict[matrix[i_min][0]] + ':' + toFixed(d_1, 2) + ',' + matrix[0][j_min] + ':' + toFixed(d_2, 2) + ',' + newick_dict[new_matrix[0][2]] + ':' + toFixed(new_matrix[1][2], 2) + ')'\n",
    "                elif (matrix[i_min][0] in newick_dict) and (matrix[0][j_min] in newick_dict):\n",
    "                    newick_dict[new_node] = '(' + newick_dict[matrix[i_min][0]] + ':' + toFixed(d_1, 2) + ',' + newick_dict[matrix[0][j_min]] + ':' + toFixed(d_2, 2) + ',' + newick_dict[new_matrix[0][2]] + ':' + toFixed(new_matrix[1][2], 2) + ')'\n",
    "        n -= 1\n",
    "        matrix = new_matrix\n",
    "        min_Q = float('inf')\n",
    "        i_min, j_min = 0, 0\n",
    "    return(newick_dict[new_node])\n",
    "NJ(matrix_2)"
   ]
  },
  {
   "cell_type": "code",
   "execution_count": null,
   "metadata": {},
   "outputs": [],
   "source": [
    "#(((D:4.00,E:1.00):1.50,C:2.50):0.25,(B:4.50,F:6.50):-0.75,A:1.75) - дерево получается при слиянии вершин DE и C c min_Q = -11\n",
    "\n",
    "#((A:1.50,C:2.50):0.25,(B:4.50,F:6.50):-0.75,(D:4.00,E:1.00):1.75) - дерево получается при слиянии вершин A и C c min_Q = -11\n",
    "\n",
    "# В обоих случаях содержится отрицательное ребро"
   ]
  }
 ],
 "metadata": {
  "kernelspec": {
   "display_name": "Python 3",
   "language": "python",
   "name": "python3"
  },
  "language_info": {
   "codemirror_mode": {
    "name": "ipython",
    "version": 3
   },
   "file_extension": ".py",
   "mimetype": "text/x-python",
   "name": "python",
   "nbconvert_exporter": "python",
   "pygments_lexer": "ipython3",
   "version": "3.8.3"
  }
 },
 "nbformat": 4,
 "nbformat_minor": 4
}
