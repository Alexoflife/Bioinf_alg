{
 "cells": [
  {
   "cell_type": "markdown",
   "metadata": {},
   "source": [
    "# Intro - functional annotation"
   ]
  },
  {
   "cell_type": "markdown",
   "metadata": {},
   "source": [
    "1. Downloding **'scaffold015.fa'** and '**augustus.whole.gff'**. \n",
    "2. Extracting protein seqs:  **./getAnnoFasta.pl augustus.whole.gff**.\n",
    "3. **Number_of_protein =  16435**    (got with **cat augustus.whole.aa | grep '>' | wc -l**) "
   ]
  },
  {
   "cell_type": "markdown",
   "metadata": {},
   "source": [
    "# Physical localization "
   ]
  },
  {
   "cell_type": "markdown",
   "metadata": {},
   "source": [
    "1. Download **'peptides.fa'**\n",
    "2. **makeblastdb -in augustus.whole.aa -parse_seqids -dbtype prot** - create local db\n",
    "3. **blastp -query peptides.fa -db augustus.whole.aa > possible_proteins.txt** - find proteins\n",
    "4. **cat possible_proteins.txt | grep '.t1' | cat possible_proteins.txt | grep '.t1' | cut -d' ' -f 1  -c2-11| cat possible_proteins.txt | grep '.t1' | cat possible_proteins.txt | grep '.t1' | cut -d' ' -f 1 | grep '>' | sort | uniq | cut -c2-10 > short_list_possible_proteins.txt** - command gives ID of all predicted proteins\n",
    "5. **while read LINE; do grep -A 1 {dollar sign}LINE augustus.whole.aa >> short_list_possible_proteins.fasta; done < short_list_possible_proteins.txt** - gives fasta file with 34 protein seqs\n",
    "\n"
   ]
  },
  {
   "cell_type": "markdown",
   "metadata": {},
   "source": [
    "# Localization prediction"
   ]
  },
  {
   "cell_type": "markdown",
   "metadata": {},
   "source": [
    "## a) WoLF PSORT"
   ]
  },
  {
   "cell_type": "code",
   "execution_count": null,
   "metadata": {},
   "outputs": [],
   "source": [
    "g10513.t1 details nucl: 13, extr: 12, cyto: 7\n",
    "g10514.t1 details nucl: 13, cyto_nucl: 12.5, cyto: 10, extr: 8, mito: 1 \n",
    "g11320.t1 details plas: 24, extr: 7, E.R.: 1 \n",
    "g11513.t1 details plas: 14, extr: 12, cyto: 2, mito: 2, nucl: 1, lyso: 1 \n",
    "g11806.t1 details nucl: 12.5, extr: 11, cyto_nucl: 9.33333, cyto: 5, cyto_pero: 3.33333, mito: 3 \n",
    "g11960.t1 details nucl: 28, extr: 1, cyto: 1, mito: 1, golg: 1 \n",
    "g12388.t1 details extr: 28, plas: 2, mito: 2 \n",
    "g12510.t1 details extr: 18, cyto: 7, mito: 3, plas: 2, nucl: 1, lyso: 1 \n",
    "g12562.t1 details extr: 31, lyso: 1 \n",
    "g1285.t1 details extr: 25, E.R.: 3, plas: 2, cyto: 2 \n",
    "g13530.t1 details extr: 22, plas: 5, lyso: 3, E.R.: 2 \n",
    "g14472.t1 details cyto: 16.5, cyto_nucl: 11, extr: 10, nucl: 4.5, mito: 1 \n",
    "g15153.t1 details extr: 32 \n",
    "g15484.t1 details cyto: 16.5, cyto_nucl: 12.6667, cyto_plas: 10.1667, extr: 9, nucl: 3.5, mito: 1, pero: 1 \n",
    "g16318.t1 details nucl: 19, extr: 8, cyto: 4, E.R.: 1 \n",
    "g16368.t1 details nucl: 19, extr: 8, cyto: 4, E.R.: 1 \n",
    "g2203.t1 details extr: 22, nucl: 6, cyto: 2, mito: 1, golg: 1 \n",
    "g3428.t1 details cyto: 16, mito: 15, extr: 1 \n",
    "g3679.t1 details extr: 29, E.R.: 2, mito: 1 \n",
    "g4106.t1 details extr: 16, plas: 7, mito: 5, E.R.: 3, lyso: 1 \n",
    "g4970.t1 details extr: 29, cyto: 2, nucl: 1 \n",
    "g5237.t1 details extr: 15, mito: 8, nucl: 4, cyto_pero: 4, cyto: 3.5 \n",
    "g5443.t1 details extr: 28, mito: 3, cyto: 1 \n",
    "g5467.t1 details extr: 30, plas: 2 \n",
    "g5502.t1 details extr: 25, plas: 4, mito: 2, lyso: 1 \n",
    "g5503.t1 details extr: 25, plas: 4, mito: 2, lyso: 1 \n",
    "g5510.t1 details plas: 11, mito: 11, extr: 5, E.R.: 2, cyto: 1, pero: 1, golg: 1 \n",
    "g5616.t1 details extr: 32 \n",
    "g5641.t1 details extr: 26, plas: 5, E.R.: 1 \n",
    "g5927.t1 details cyto: 17.5, cyto_nucl: 12, extr: 9, nucl: 5.5 \n",
    "g702.t1 details extr: 31, E.R.: 1 \n",
    "g7861.t1 details cyto_nucl: 14.5, nucl: 13, cyto: 12, extr: 6, mito: 1 \n",
    "g8100.t1 details cyto: 15, extr: 11, mito: 2, cysk: 2, nucl: 1, golg: 1 \n",
    "g8312.t1 details cyto: 16.5, cyto_nucl: 10.5, extr: 10, nucl: 3.5, plas: 2"
   ]
  },
  {
   "cell_type": "markdown",
   "metadata": {},
   "source": [
    "## b) TargetP"
   ]
  },
  {
   "cell_type": "code",
   "execution_count": null,
   "metadata": {},
   "outputs": [],
   "source": [
    "# TargetP-2.0\tOrganism: Non-Plant\tTimestamp: 20210225155825\n",
    "# ID\tPrediction\tOTHER\tSP\tmTP\tCS Position\n",
    "g10513.t1\tOTHER\t0.999647\t0.000353\t0.000000\t\n",
    "g10514.t1\tOTHER\t0.998312\t0.001104\t0.000584\t\n",
    "g11320.t1\tSP\t0.000003\t0.999997\t0.000000\tCS pos: 20-21. AYS-AG. Pr: 0.7406\n",
    "g11513.t1\tOTHER\t0.995604\t0.002933\t0.001463\t\n",
    "g11806.t1\tOTHER\t0.997905\t0.001745\t0.000350\t\n",
    "g11960.t1\tOTHER\t0.999964\t0.000027\t0.000009\t\n",
    "g12388.t1\tSP\t0.000120\t0.999839\t0.000041\tCS pos: 16-17. ASA-SS. Pr: 0.6493\n",
    "g12510.t1\tOTHER\t0.999379\t0.000368\t0.000253\t\n",
    "g12562.t1\tSP\t0.000001\t0.999999\t0.000000\tCS pos: 16-17. SYA-AN. Pr: 0.7977\n",
    "g1285.t1\tSP\t0.000670\t0.998935\t0.000394\tCS pos: 16-17. ASA-TS. Pr: 0.7155\n",
    "g13530.t1\tSP\t0.016211\t0.983547\t0.000242\tCS pos: 19-20. TIP-FT. Pr: 0.3579\n",
    "g14472.t1\tOTHER\t0.999996\t0.000004\t0.000000\t\n",
    "g15153.t1\tSP\t0.000001\t0.999999\t0.000000\tCS pos: 16-17. AYA-AN. Pr: 0.8430\n",
    "g15484.t1\tOTHER\t0.999883\t0.000053\t0.000063\t\n",
    "g16318.t1\tOTHER\t0.963329\t0.036662\t0.000009\t\n",
    "g16368.t1\tOTHER\t0.959404\t0.040589\t0.000007\t\n",
    "g2203.t1\tOTHER\t0.999782\t0.000089\t0.000129\t\n",
    "g3428.t1\tOTHER\t0.999816\t0.000078\t0.000106\t\n",
    "g3679.t1\tSP\t0.000491\t0.999366\t0.000142\tCS pos: 18-19. TFA-AR. Pr: 0.5598\n",
    "g4106.t1\tSP\t0.387459\t0.608949\t0.003592\tCS pos: 35-36. TRR-SG. Pr: 0.3170\n",
    "g4970.t1\tOTHER\t0.969624\t0.030340\t0.000036\t\n",
    "g5237.t1\tOTHER\t0.999393\t0.000288\t0.000319\t\n",
    "g5443.t1\tOTHER\t0.901683\t0.093946\t0.004371\t\n",
    "g5467.t1\tSP\t0.000033\t0.999934\t0.000033\tCS pos: 16-17. ASA-GS. Pr: 0.6516\n",
    "g5502.t1\tSP\t0.000085\t0.999827\t0.000088\tCS pos: 16-17. ASA-GS. Pr: 0.6844\n",
    "g5503.t1\tSP\t0.000085\t0.999827\t0.000088\tCS pos: 16-17. ASA-GS. Pr: 0.6844\n",
    "g5510.t1\tOTHER\t0.890894\t0.008246\t0.100860\t\n",
    "g5616.t1\tSP\t0.000001\t0.999999\t0.000000\tCS pos: 16-17. ACA-AN. Pr: 0.5354\n",
    "g5641.t1\tSP\t0.000002\t0.999998\t0.000000\tCS pos: 16-17. ACA-AS. Pr: 0.4954\n",
    "g5927.t1\tOTHER\t0.999987\t0.000005\t0.000008\t\n",
    "g702.t1\tSP\t0.000002\t0.999998\t0.000000\tCS pos: 16-17. ALA-AN. Pr: 0.8210\n",
    "g7861.t1\tOTHER\t0.999977\t0.000012\t0.000011\t\n",
    "g8100.t1\tOTHER\t0.998372\t0.000810\t0.000818\t\n",
    "g8312.t1\tOTHER\t0.998377\t0.001601\t0.000022\t"
   ]
  },
  {
   "cell_type": "markdown",
   "metadata": {},
   "source": [
    "# BLAST search"
   ]
  },
  {
   "cell_type": "code",
   "execution_count": null,
   "metadata": {},
   "outputs": [],
   "source": [
    "#protein    Accession    E-value  Per.ident.  Query cover  \n",
    "g10513.t1\n",
    "g10514.t1\n",
    "g11320.t1\n",
    "g11513.t1\n",
    "g11806.t1\n",
    "g11960.t1\n",
    "g12388.t1\n",
    "g12510.t1\n",
    "g12562.t1\n",
    "g1285.t1\n",
    "g13530.t1\n",
    "g14472.t1*   P0DOW4.1    4e-63    100.00%    100%\n",
    "g15153.t1\n",
    "g15484.t1    Q155U0.1    2e-35    61.62%    99%\n",
    "g16318.t1\n",
    "g16368.t1\n",
    "g2203.t1\n",
    "g3428.t1    Q7M2V4.2    8e-45    68.32%    100%\n",
    "g3679.t1\n",
    "g4106.t1\n",
    "g4970.t1    Q04832.1    1e-12    46.79%    99%\n",
    "g5237.t1\n",
    "g5443.t1\n",
    "g5467.t1\n",
    "g5502.t1\n",
    "g5503.t1\n",
    "g5510.t1\n",
    "g5616.t1\n",
    "g5641.t1\n",
    "g5927.t1\n",
    "g702.t1\n",
    "g7861.t1\n",
    "g8100.t1\n",
    "g8312.t1"
   ]
  },
  {
   "cell_type": "markdown",
   "metadata": {},
   "source": [
    "# Pfam prediction"
   ]
  },
  {
   "cell_type": "code",
   "execution_count": null,
   "metadata": {},
   "outputs": [],
   "source": [
    "g10513.t1 \n",
    "g10514.t1 \n",
    "g11320.t1 \n",
    "g11513.t1 \n",
    "g11806.t1 \n",
    "g11960.t1 \n",
    "g12388.t1 \n",
    "g12510.t1 \n",
    "g12562.t1 \n",
    "g1285.t1 \n",
    "g13530.t1  \n",
    "g14472.t1  \n",
    "g15153.t1 \n",
    "g15484.t1  Vps51\tPF08700.11\tCL0295\tVps51/Vps67\t 10\t96\t2.4e-26\t4.0e-30\n",
    "g16318.t1\n",
    "g16368.t1\n",
    "g2203.t1\n",
    "g3428.t1  EF-hand_6\tPF13405.6\tCL0220\tEF-hand domain\t28\t57\t5.6e-07\t6.2e-11  \n",
    "g3679.t1\n",
    "g4106.t1\n",
    "g4970.t1   zf-CCHC\tPF00098.23\tCL0511\tZinc knuckle\t10\t27\t1.4e-08\t1.5e-12 \n",
    "g5237.t1\n",
    "g5443.t1\n",
    "g5467.t1 CBM_14\tPF01607.24\tCL0155\tChitin binding Peritrophin-A domain\t53\t100\t2.1e-08\t1.2e-12\n",
    "g5502.t1\n",
    "g5503.t1\n",
    "g5510.t1\n",
    "g5616.t1\n",
    "g5641.t1\n",
    "g5927.t1\n",
    "g702.t1\n",
    "g7861.t1\n",
    "g8100.t1\n",
    "g8312.t1"
   ]
  }
 ],
 "metadata": {
  "kernelspec": {
   "display_name": "Python 3",
   "language": "python",
   "name": "python3"
  },
  "language_info": {
   "codemirror_mode": {
    "name": "ipython",
    "version": 3
   },
   "file_extension": ".py",
   "mimetype": "text/x-python",
   "name": "python",
   "nbconvert_exporter": "python",
   "pygments_lexer": "ipython3",
   "version": "3.6.9"
  }
 },
 "nbformat": 4,
 "nbformat_minor": 4
}
