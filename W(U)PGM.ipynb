{
 "cells": [
  {
   "cell_type": "code",
   "execution_count": 37,
   "metadata": {},
   "outputs": [],
   "source": [
    "matrix_1 = [[0,'A',  'B', 'C',  'D'],\n",
    "          ['A',  0,   16,  16,  10], \n",
    "          ['B',  0,    0,   8,  8],\n",
    "          ['C',  0,    0,   0,  4],\n",
    "          ['D',  0,    0,   0,  0]]\n",
    "\n",
    "matrix_2 = [[0,  'A', 'B', 'C', 'D', 'E', 'F'],\n",
    "            ['A', 0,   5,   4,   7,   6,   8], \n",
    "            ['B', 0,   0,   7,  10,   9,  11],\n",
    "            ['C', 0,   0,   0,   7,   6,   8],\n",
    "            ['D', 0,   0,   0,   0,   5,   9],\n",
    "            ['E', 0,   0,   0,   0,   0,   8],\n",
    "            ['F', 0,   0,   0,   0,   0,   0]]"
   ]
  },
  {
   "cell_type": "code",
   "execution_count": 38,
   "metadata": {},
   "outputs": [],
   "source": [
    "def toFixed(numObj, digits=0):\n",
    "    return f\"{numObj:.{digits}f}\""
   ]
  },
  {
   "cell_type": "code",
   "execution_count": 39,
   "metadata": {},
   "outputs": [],
   "source": [
    "def WPGM(matrix):\n",
    "    score_dict = {matrix[i][0] : 0 for i in range(1, len(matrix))}\n",
    "    newick_dict = {}\n",
    "    for k in range(len(matrix) - 2):\n",
    "        add_dict = {}\n",
    "        min_el = float('inf')\n",
    "        n = len(matrix)\n",
    "        for i in range(1, n - 1):\n",
    "            for j in range(i+1, n):\n",
    "                if matrix[i][j] < min_el:\n",
    "                    min_el = matrix[i][j]\n",
    "                    i_min, j_min = i, j\n",
    "        new_node = ''.join(sorted(matrix[i_min][0] + matrix[0][j_min]))\n",
    "        score_dict[new_node] = min_el/2\n",
    "        if (matrix[i_min][0] not in newick_dict) and (matrix[0][j_min] not in newick_dict):\n",
    "            newick_dict[new_node] = '(' + matrix[i_min][0] + ':' + toFixed(min_el/2 - score_dict[matrix[i_min][0]], 2) + ',' + matrix[0][j_min] + ':' + toFixed(min_el/2 - score_dict[matrix[0][j_min]], 2) + ')' \n",
    "        elif (matrix[i_min][0] not in newick_dict) and (matrix[0][j_min] in newick_dict):\n",
    "            newick_dict[new_node] = '(' + matrix[i_min][0] + ':' + toFixed(min_el/2 - score_dict[matrix[i_min][0]], 2) + ',' + newick_dict[matrix[0][j_min]] + ':' + toFixed(min_el/2 - score_dict[matrix[0][j_min]], 2) + ')' \n",
    "        elif (matrix[i_min][0] in newick_dict) and (matrix[0][j_min] not in newick_dict):\n",
    "            newick_dict[new_node] = '(' + newick_dict[matrix[i_min][0]] + ':' + toFixed(min_el/2 - score_dict[matrix[i_min][0]], 2) + ',' + matrix[0][j_min] + ':' + toFixed(min_el/2 - score_dict[matrix[0][j_min]], 2) + ')'\n",
    "        elif (matrix[i_min][0] in newick_dict) and (matrix[0][j_min] in newick_dict):\n",
    "            newick_dict[new_node] = '(' + newick_dict[matrix[i_min][0]] + ':' + toFixed(min_el/2 - score_dict[matrix[i_min][0]], 2) + ',' + newick_dict[matrix[0][j_min]] + ':' + toFixed(min_el/2 - score_dict[matrix[0][j_min]], 2) + ')'\n",
    "        new_matrix = [[0 for t in range(n-1)] for t in range(n-1)]\n",
    "        new_matrix[0][1], new_matrix[1][0] = ''.join(sorted(matrix[i_min][0] + matrix[0][j_min])), ''.join(sorted(matrix[i_min][0] + matrix[0][j_min]))\n",
    "        i_min, j_min = 0, 0\n",
    "        i = 2\n",
    "        for j in range(1, n):\n",
    "            if matrix[0][j][0] not in new_matrix[0][1]:\n",
    "                new_matrix[0][i] = matrix[0][j]\n",
    "                new_matrix[i][0] = matrix[0][j]\n",
    "                i += 1\n",
    "        for i in range(1, n-1):\n",
    "            for j in range(i+1, n):\n",
    "                if ((matrix[0][j][0] not in new_node) and  (matrix[i][0][0] in new_node)) and  (''.join(sorted(matrix[0][j] + new_node)) not in add_dict)  :\n",
    "                    add_dict[''.join(sorted(matrix[0][j] + new_node))] = matrix[i][j]/2\n",
    "                elif ((matrix[0][j][0] not in new_node) and  (matrix[i][0][0] in new_node)) and  (''.join(sorted(matrix[0][j] + new_node)) in add_dict):\n",
    "                    add_dict[''.join(sorted(matrix[0][j] + new_node))] += matrix[i][j]/2\n",
    "                elif ((matrix[0][j][0] in new_node) and  (matrix[i][0][0] not in new_node)) and  (''.join(sorted(matrix[i][0] + new_node)) not in add_dict):\n",
    "                    add_dict[''.join(sorted(matrix[i][0] + new_node))] = matrix[i][j]/2\n",
    "                elif ((matrix[0][j][0] in new_node) and  (matrix[i][0][0] not in new_node)) and  (''.join(sorted(matrix[i][0] + new_node)) in add_dict):\n",
    "                    add_dict[''.join(sorted(matrix[i][0] + new_node))] += matrix[i][j]/2\n",
    "                elif ((matrix[0][j][0] not in new_node) and  (matrix[i][0][0] not in new_node)):\n",
    "                    add_dict[''.join(sorted(matrix[i][0] + matrix[0][j]))] = matrix[i][j]\n",
    "        for i in range(1, n-2):\n",
    "            for j in range(i+1, n-1):\n",
    "                new_matrix[i][j] = add_dict[''.join(sorted(new_matrix[i][0] + new_matrix[0][j]))]\n",
    "        matrix = new_matrix\n",
    "    return(newick_dict[new_node])"
   ]
  },
  {
   "cell_type": "code",
   "execution_count": 40,
   "metadata": {},
   "outputs": [],
   "source": [
    "def UPGM(matrix):\n",
    "    score_dict = {matrix[i][0] : 0 for i in range(1, len(matrix))}\n",
    "    newick_dict = {}\n",
    "    for k in range(len(matrix) - 2):\n",
    "        denom_dict = {}\n",
    "        add_dict = {}\n",
    "        min_el = float('inf')\n",
    "        n = len(matrix)\n",
    "        for i in range(1, n - 1):\n",
    "            for j in range(i+1, n):\n",
    "                if matrix[i][j] < min_el:\n",
    "                    min_el = matrix[i][j]\n",
    "                    i_min, j_min = i, j\n",
    "        new_node = ''.join(sorted(matrix[i_min][0] + matrix[0][j_min]))\n",
    "        score_dict[new_node] = min_el/2\n",
    "        if (matrix[i_min][0] not in newick_dict) and (matrix[0][j_min] not in newick_dict):\n",
    "            newick_dict[new_node] = '(' + matrix[i_min][0] + ':' + toFixed(min_el/2 - score_dict[matrix[i_min][0]], 2) + ',' + matrix[0][j_min] + ':' + toFixed(min_el/2 - score_dict[matrix[0][j_min]], 2) + ')' \n",
    "        elif (matrix[i_min][0] not in newick_dict) and (matrix[0][j_min] in newick_dict):\n",
    "            newick_dict[new_node] = '(' + matrix[i_min][0] + ':' + toFixed(min_el/2 - score_dict[matrix[i_min][0]], 2) + ',' + newick_dict[matrix[0][j_min]] + ':' + toFixed(min_el/2 - score_dict[matrix[0][j_min]], 2) + ')' \n",
    "        elif (matrix[i_min][0] in newick_dict) and (matrix[0][j_min] not in newick_dict):\n",
    "            newick_dict[new_node] = '(' + newick_dict[matrix[i_min][0]] + ':' + toFixed(min_el/2 - score_dict[matrix[i_min][0]], 2) + ',' + matrix[0][j_min] + ':' + toFixed(min_el/2 - score_dict[matrix[0][j_min]], 2) + ')'\n",
    "        elif (matrix[i_min][0] in newick_dict) and (matrix[0][j_min] in newick_dict):\n",
    "            newick_dict[new_node] = '(' + newick_dict[matrix[i_min][0]] + ':' + toFixed(min_el/2 - score_dict[matrix[i_min][0]], 2) + ',' + newick_dict[matrix[0][j_min]] + ':' + toFixed(min_el/2 - score_dict[matrix[0][j_min]], 2) + ')'\n",
    "        new_matrix = [[0 for t in range(n-1)] for t in range(n-1)]\n",
    "        new_matrix[0][1], new_matrix[1][0] = ''.join(sorted(matrix[i_min][0] + matrix[0][j_min])), ''.join(sorted(matrix[i_min][0] + matrix[0][j_min]))\n",
    "        i_min, j_min = 0, 0\n",
    "        i = 2\n",
    "        for j in range(1, n):\n",
    "            if matrix[0][j][0] not in new_matrix[0][1]:\n",
    "                new_matrix[0][i] = matrix[0][j]\n",
    "                new_matrix[i][0] = matrix[0][j]\n",
    "                i += 1\n",
    "        for i in range(1, n-1):\n",
    "            for j in range(i+1, n):\n",
    "                if ((matrix[0][j][0] not in new_node) and  (matrix[i][0][0] in new_node)) and  (''.join(sorted(matrix[0][j] + new_node)) not in add_dict)  :\n",
    "                    add_dict[''.join(sorted(matrix[0][j] + new_node))] = matrix[i][j]*len(matrix[0][j])*len(matrix[i][0])\n",
    "                    \n",
    "                    denom_dict[''.join(sorted(matrix[0][j] + new_node))] = len(matrix[0][j])*len(matrix[i][0])\n",
    "                \n",
    "                elif ((matrix[0][j][0] not in new_node) and  (matrix[i][0][0] in new_node)) and  (''.join(sorted(matrix[0][j] + new_node)) in add_dict):\n",
    "                    add_dict[''.join(sorted(matrix[0][j] + new_node))] += matrix[i][j]*len(matrix[0][j])*len(matrix[i][0])\n",
    "                    \n",
    "                    denom_dict[''.join(sorted(matrix[0][j] + new_node))] += len(matrix[0][j])*len(matrix[i][0])\n",
    "                    \n",
    "                    add_dict[''.join(sorted(matrix[0][j] + new_node))] = (add_dict[''.join(sorted(matrix[0][j] + new_node))])/(denom_dict[''.join(sorted(matrix[0][j] + new_node))])\n",
    "                \n",
    "                elif ((matrix[0][j][0] in new_node) and  (matrix[i][0][0] not in new_node)) and  (''.join(sorted(matrix[i][0] + new_node)) not in add_dict):\n",
    "                    add_dict[''.join(sorted(matrix[i][0] + new_node))] = matrix[i][j]*len(matrix[0][j])*len(matrix[i][0])\n",
    "                    \n",
    "                    denom_dict[''.join(sorted(matrix[i][0] + new_node))] = len(matrix[0][j])*len(matrix[i][0])\n",
    "                \n",
    "                elif ((matrix[0][j][0] in new_node) and  (matrix[i][0][0] not in new_node)) and  (''.join(sorted(matrix[i][0] + new_node)) in add_dict):\n",
    "                    add_dict[''.join(sorted(matrix[i][0] + new_node))] += matrix[i][j]*len(matrix[0][j])*len(matrix[i][0])\n",
    "                    \n",
    "                    denom_dict[''.join(sorted(matrix[i][0] + new_node))] += len(matrix[0][j])*len(matrix[i][0])\n",
    "                    \n",
    "                    add_dict[''.join(sorted(matrix[i][0] + new_node))] = (add_dict[''.join(sorted(matrix[i][0] + new_node))])/(denom_dict[''.join(sorted(matrix[i][0] + new_node))])\n",
    "                \n",
    "                elif ((matrix[0][j][0] not in new_node) and  (matrix[i][0][0] not in new_node)):\n",
    "                    \n",
    "                    add_dict[''.join(sorted(matrix[i][0] + matrix[0][j]))] = matrix[i][j]\n",
    "        for i in range(1, n-2):\n",
    "            for j in range(i+1, n-1):\n",
    "                new_matrix[i][j] = add_dict[''.join(sorted(new_matrix[i][0] + new_matrix[0][j]))]\n",
    "        matrix = new_matrix\n",
    "    return(newick_dict[new_node])\n",
    "    "
   ]
  },
  {
   "cell_type": "code",
   "execution_count": 51,
   "metadata": {},
   "outputs": [
    {
     "data": {
      "text/plain": [
       "'(((C:2.00,D:2.00):2.00,B:4.00):3.25,A:7.25)'"
      ]
     },
     "execution_count": 51,
     "metadata": {},
     "output_type": "execute_result"
    }
   ],
   "source": [
    "WPGM(matrix_1)"
   ]
  },
  {
   "cell_type": "code",
   "execution_count": 50,
   "metadata": {},
   "outputs": [
    {
     "data": {
      "text/plain": [
       "'(((C:2.00,D:2.00):2.00,B:4.00):3.00,A:7.00)'"
      ]
     },
     "execution_count": 50,
     "metadata": {},
     "output_type": "execute_result"
    }
   ],
   "source": [
    "UPGM(matrix_1)"
   ]
  },
  {
   "cell_type": "code",
   "execution_count": 48,
   "metadata": {},
   "outputs": [
    {
     "data": {
      "text/plain": [
       "'((((A:2.00,C:2.00):1.00,B:3.00):1.00,(D:2.50,E:2.50):1.50):0.50,F:4.50)'"
      ]
     },
     "execution_count": 48,
     "metadata": {},
     "output_type": "execute_result"
    }
   ],
   "source": [
    "WPGM(matrix_2)"
   ]
  },
  {
   "cell_type": "code",
   "execution_count": 49,
   "metadata": {},
   "outputs": [
    {
     "data": {
      "text/plain": [
       "'((((A:2.00,C:2.00):1.00,B:3.00):0.75,(D:2.50,E:2.50):1.25):0.65,F:4.40)'"
      ]
     },
     "execution_count": 49,
     "metadata": {},
     "output_type": "execute_result"
    }
   ],
   "source": [
    "UPGM(matrix_2)"
   ]
  }
 ],
 "metadata": {
  "kernelspec": {
   "display_name": "Python 3",
   "language": "python",
   "name": "python3"
  },
  "language_info": {
   "codemirror_mode": {
    "name": "ipython",
    "version": 3
   },
   "file_extension": ".py",
   "mimetype": "text/x-python",
   "name": "python",
   "nbconvert_exporter": "python",
   "pygments_lexer": "ipython3",
   "version": "3.8.3"
  }
 },
 "nbformat": 4,
 "nbformat_minor": 4
}
