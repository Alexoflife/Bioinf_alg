{
 "cells": [
  {
   "cell_type": "code",
   "execution_count": 10,
   "metadata": {},
   "outputs": [
    {
     "name": "stdout",
     "output_type": "stream",
     "text": [
      "AGGG GATTTT\n",
      "_A____GGG GATTTT___\n"
     ]
    }
   ],
   "source": [
    "A, B = input().split() # seq1, seq2, разделённые пробелом на алфавите {\"A\", \"G\", \"T\", \"C\"}\n",
    "n, m, d= len(A), len(B), -1\n",
    "S_dict = {\"AA\": 10, \"AG\": -1, \"AC\": -3, \"AT\": -4, \"GA\": -1, \"GG\": 7, \"GC\": -5, \"GT\": -3, \"CA\": -3, \"CG\": -5, \"CC\": 9, \"CT\": 0, \"TA\": -4, \"TG\": -3, \"TC\": 0, \"TT\": 8}\n",
    "#S_dict = {\"AA\": 10, \"AG\": -1, \"AC\": -3, \"AT\": -4, \"GA\": -1, \"GG\": 20, \"GC\": -5, \"GT\": -3, \"CA\": -3, \"CG\": -5, \"CC\": 9, \"CT\": 0, \"TA\": -4, \"TG\": -3, \"TC\": 0, \"TT\": 8}\n",
    "F = [[0] * (m+1) for i in range(n+1)]\n",
    "for i in range(n+1):\n",
    "    F[i][0] = d * i\n",
    "for j in range(m+1):\n",
    "    F[0][j] = d * j\n",
    "for i in range(1, n+1):\n",
    "    for j in range(1, m+1):\n",
    "        Match = F[i-1][j-1] + S_dict[A[i-1]+B[j-1]]  \n",
    "        Delete = F[i-1][j] + d\n",
    "        Insert = F[i][j-1] + d\n",
    "        F[i][j] = max(Match, Delete, Insert)\n",
    "Align_A, Align_B = \"\", \"\"\n",
    "while i > 0 and j > 0:\n",
    "    Score, ScoreDiag,  ScoreLeft, ScoreUp = F[i][j], F[i-1][j-1], F[i][j-1], F[i-1][j]\n",
    "    if Score == ScoreDiag + S_dict[A[i-1]+B[j-1]]:\n",
    "        Align_A = A[i-1] + Align_A\n",
    "        Align_B = B[j-1] + Align_B\n",
    "        i -= 1\n",
    "        j -= 1\n",
    "    elif Score == ScoreUp + d:\n",
    "        Align_A = A[i-1] + Align_A\n",
    "        Align_B = \"_\" + Align_B\n",
    "        i -= 1\n",
    "    elif Score == ScoreLeft + d:\n",
    "        Align_A = \"_\" + Align_A\n",
    "        Align_B = B[j-1] + Align_B\n",
    "        j -= 1\n",
    "while i > 0:\n",
    "    Align_A = A[i-1] + Align_A\n",
    "    Align_B = \"_\" + Align_B\n",
    "    i -= 1\n",
    "while j > 0:\n",
    "    Align_A = \"_\" + Align_A\n",
    "    Align_B = B[j-1] + Align_B\n",
    "    j -= 1\n",
    "print(Align_A, Align_B)\n",
    "# A,B = \"AGGG\", \"GATTTT\"\n",
    "\n",
    "#1  При \"GG\" :7    выравнивание  _A____GGG GATTTT___\n",
    "\n",
    "#2  При \"GG\" :20   выравнивание  AGG____G _GATTTT_\n"
   ]
  }
 ],
 "metadata": {
  "kernelspec": {
   "display_name": "Python 3",
   "language": "python",
   "name": "python3"
  },
  "language_info": {
   "codemirror_mode": {
    "name": "ipython",
    "version": 3
   },
   "file_extension": ".py",
   "mimetype": "text/x-python",
   "name": "python",
   "nbconvert_exporter": "python",
   "pygments_lexer": "ipython3",
   "version": "3.8.3"
  }
 },
 "nbformat": 4,
 "nbformat_minor": 4
}
