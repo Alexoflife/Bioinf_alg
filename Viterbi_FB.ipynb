{
 "cells": [
  {
   "cell_type": "code",
   "execution_count": 12,
   "metadata": {},
   "outputs": [],
   "source": [
    "states = 'ОРОРОРООРРРРРРРРРРОООООООО'"
   ]
  },
  {
   "cell_type": "code",
   "execution_count": 13,
   "metadata": {},
   "outputs": [],
   "source": [
    "def Viterbi(n, states):\n",
    "    result = ''\n",
    "    if n == 1:\n",
    "        a_11, a_12 = 0.8, 0.2\n",
    "        a_21, a_22 = 0.2, 0.8\n",
    "        b_1_O, b_1_P = 0.5, 0.5\n",
    "        b_2_O, b_2_P = 0.1, 0.9\n",
    "    elif n == 2:\n",
    "        a_11, a_12 = 0.5, 0.5\n",
    "        a_21, a_22 = 0.5, 0.5\n",
    "        b_1_O, b_1_P = 0.5, 0.5\n",
    "        b_2_O, b_2_P = 0.51, 0.49\n",
    "    \n",
    "    delta_1, delta_2 = 0.5, 0.5\n",
    "    \n",
    "    for i in range(len(states)):\n",
    "        if i == 0:\n",
    "            if states[i] == 'О':\n",
    "                delta_1 = delta_1 * b_1_O\n",
    "                delta_2 = delta_2 * b_2_O\n",
    "            else:\n",
    "                delta_1 = delta_1 * b_1_P\n",
    "                delta_2 = delta_2 * b_2_P\n",
    "            if delta_1 > delta_2:\n",
    "                result += '1'\n",
    "            else:\n",
    "                result += '2'\n",
    "        else:\n",
    "            if states[i] == 'Р':\n",
    "                delta_1 = max(delta_1 * a_11 * b_1_P, delta_2 * a_21 * b_1_P)\n",
    "                delta_2 = max(delta_2 * a_22 * b_2_P, delta_1 * a_12 * b_2_P)\n",
    "            else:\n",
    "                delta_1 = max(delta_1 * a_11 * b_1_O, delta_2 * a_21 * b_1_O)\n",
    "                delta_2 = max(delta_2 * a_22 * b_2_O, delta_1 * a_12 * b_2_O)\n",
    "            if delta_1 > delta_2:\n",
    "                result += '1'\n",
    "            else:\n",
    "                result += '2'\n",
    "    return result"
   ]
  },
  {
   "cell_type": "code",
   "execution_count": 16,
   "metadata": {},
   "outputs": [
    {
     "data": {
      "text/plain": [
       "'11111111111222222211111111'"
      ]
     },
     "execution_count": 16,
     "metadata": {},
     "output_type": "execute_result"
    }
   ],
   "source": [
    "Viterbi(1, states)"
   ]
  },
  {
   "cell_type": "code",
   "execution_count": 17,
   "metadata": {},
   "outputs": [
    {
     "data": {
      "text/plain": [
       "'21111112111111111111111111'"
      ]
     },
     "execution_count": 17,
     "metadata": {},
     "output_type": "execute_result"
    }
   ],
   "source": [
    "Viterbi(2, states)"
   ]
  }
 ],
 "metadata": {
  "kernelspec": {
   "display_name": "Python 3",
   "language": "python",
   "name": "python3"
  },
  "language_info": {
   "codemirror_mode": {
    "name": "ipython",
    "version": 3
   },
   "file_extension": ".py",
   "mimetype": "text/x-python",
   "name": "python",
   "nbconvert_exporter": "python",
   "pygments_lexer": "ipython3",
   "version": "3.8.3"
  }
 },
 "nbformat": 4,
 "nbformat_minor": 4
}
