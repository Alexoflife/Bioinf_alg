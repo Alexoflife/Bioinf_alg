{
 "cells": [
  {
   "cell_type": "code",
   "execution_count": 27,
   "metadata": {},
   "outputs": [],
   "source": [
    "states = 'ОРОРОРООРРРРРРРРРРОООООООО'"
   ]
  },
  {
   "cell_type": "code",
   "execution_count": 58,
   "metadata": {},
   "outputs": [],
   "source": [
    "def toFixed(numObj, digits=0):\n",
    "    return f\"{numObj:.{digits}f}\""
   ]
  },
  {
   "cell_type": "code",
   "execution_count": 13,
   "metadata": {},
   "outputs": [],
   "source": [
    "def Viterbi(n, states):\n",
    "    result = ''\n",
    "    if n == 1:\n",
    "        a_11, a_12 = 0.8, 0.2\n",
    "        a_21, a_22 = 0.2, 0.8\n",
    "        b_1_O, b_1_P = 0.5, 0.5\n",
    "        b_2_O, b_2_P = 0.1, 0.9\n",
    "    elif n == 2:\n",
    "        a_11, a_12 = 0.5, 0.5\n",
    "        a_21, a_22 = 0.5, 0.5\n",
    "        b_1_O, b_1_P = 0.5, 0.5\n",
    "        b_2_O, b_2_P = 0.51, 0.49\n",
    "    \n",
    "    delta_1, delta_2 = 0.5, 0.5\n",
    "    \n",
    "    for i in range(len(states)):\n",
    "        if i == 0:\n",
    "            if states[i] == 'О':\n",
    "                delta_1 = delta_1 * b_1_O\n",
    "                delta_2 = delta_2 * b_2_O\n",
    "            else:\n",
    "                delta_1 = delta_1 * b_1_P\n",
    "                delta_2 = delta_2 * b_2_P\n",
    "            if delta_1 > delta_2:\n",
    "                result += '1'\n",
    "            else:\n",
    "                result += '2'\n",
    "        else:\n",
    "            if states[i] == 'Р':\n",
    "                delta_1 = max(delta_1 * a_11 * b_1_P, delta_2 * a_21 * b_1_P)\n",
    "                delta_2 = max(delta_2 * a_22 * b_2_P, delta_1 * a_12 * b_2_P)\n",
    "            else:\n",
    "                delta_1 = max(delta_1 * a_11 * b_1_O, delta_2 * a_21 * b_1_O)\n",
    "                delta_2 = max(delta_2 * a_22 * b_2_O, delta_1 * a_12 * b_2_O)\n",
    "            if delta_1 > delta_2:\n",
    "                result += '1'\n",
    "            else:\n",
    "                result += '2'\n",
    "    return result"
   ]
  },
  {
   "cell_type": "code",
   "execution_count": 16,
   "metadata": {},
   "outputs": [
    {
     "data": {
      "text/plain": [
       "'11111111111222222211111111'"
      ]
     },
     "execution_count": 16,
     "metadata": {},
     "output_type": "execute_result"
    }
   ],
   "source": [
    "Viterbi(1, states)"
   ]
  },
  {
   "cell_type": "code",
   "execution_count": 17,
   "metadata": {},
   "outputs": [
    {
     "data": {
      "text/plain": [
       "'21111112111111111111111111'"
      ]
     },
     "execution_count": 17,
     "metadata": {},
     "output_type": "execute_result"
    }
   ],
   "source": [
    "Viterbi(2, states)"
   ]
  },
  {
   "cell_type": "code",
   "execution_count": 99,
   "metadata": {},
   "outputs": [],
   "source": [
    "def FB(n, states):\n",
    "    result = [[], []]\n",
    "    alpha = [[],[]]\n",
    "    beta = [[], []]\n",
    "    \n",
    "    if n == 1:\n",
    "        a = [[0.8, 0.2], \n",
    "             [0.2, 0.8]]\n",
    "       # a_11, a_12 = 0.8, 0.2\n",
    "       # a_21, a_22 = 0.2, 0.8\n",
    "        b = {'О': [0.5, 0.1],\n",
    "             'Р': [0.5, 0.9]}\n",
    "       # b_1_O, b_1_P = 0.5, 0.5\n",
    "       # b_2_O, b_2_P = 0.1, 0.9\n",
    "    elif n == 2:\n",
    "        a = [[0.5, 0.5], \n",
    "             [0.5, 0.5]]\n",
    "        #a_11, a_12 = 0.5, 0.5\n",
    "        #a_21, a_22 = 0.5, 0.5\n",
    "        b = {'О': [0.5, 0.51],\n",
    "             'Р': [0.5, 0.49]}\n",
    "        #b_1_O, b_1_P = 0.5, 0.5\n",
    "        #b_2_O, b_2_P = 0.51, 0.49\n",
    "        \n",
    "    alpha[0].append(0.5 * b[states[0]][0])\n",
    "    alpha[1].append(0.5 * b[states[0]][1])\n",
    "    beta[0].append(1)\n",
    "    beta[1].append(1)\n",
    "    for i in range(1, len(states)):\n",
    "        alpha[0].append(alpha[0][i-1] * a[0][0] * b[states[i]][0] + alpha[1][i-1] * a[1][0] * b[states[i]][0]) \n",
    "        alpha[1].append(alpha[1][i-1] * a[1][1] * b[states[i]][1] + alpha[0][i-1] * a[0][1] * b[states[i]][1])\n",
    "        \n",
    "    for i in reversed(range(1, len(states))):\n",
    "        beta[0].insert(0, beta[0][0] * a[0][0] * b[states[i]][0] + beta[1][0] * a[1][0] * b[states[i]][0])\n",
    "        beta[1].insert(0, beta[1][0] * a[1][1] * b[states[i]][1] + beta[0][1] * a[0][1] * b[states[i]][1])\n",
    "        \n",
    "    for i in range(len(states)):\n",
    "        result[0].append(alpha[0][i]*beta[0][i]/(alpha[0][-1]+alpha[1][-1]))\n",
    "        result[1].append(alpha[1][i]*beta[1][i]/(alpha[0][-1]+alpha[1][-1]))\n",
    "        \n",
    "    for i in range(len(states)):\n",
    "        print(toFixed(result[0][i], 2), end=' ')\n",
    "        \n",
    "    print('\\n')\n",
    "    \n",
    "    for i in range(len(states)):\n",
    "        print(toFixed(result[1][i], 2), end=' ')"
   ]
  },
  {
   "cell_type": "code",
   "execution_count": 93,
   "metadata": {},
   "outputs": [
    {
     "name": "stdout",
     "output_type": "stream",
     "text": [
      "0.91 0.92 0.93 0.94 0.95 0.97 1.03 0.56 0.30 0.18 0.13 0.10 0.10 0.10 0.13 0.18 0.31 0.58 1.09 1.19 1.20 1.21 1.21 1.20 1.16 0.94 \n",
      "\n",
      "0.13 0.11 0.11 0.11 0.10 0.08 0.07 0.16 0.64 0.85 0.95 0.99 1.00 0.99 0.94 0.84 0.62 0.13 0.03 0.01 0.01 0.00 0.00 0.01 0.01 0.06 "
     ]
    }
   ],
   "source": [
    "FB(1, states)"
   ]
  },
  {
   "cell_type": "code",
   "execution_count": 100,
   "metadata": {},
   "outputs": [
    {
     "name": "stdout",
     "output_type": "stream",
     "text": [
      "0.50 0.50 0.50 0.50 0.50 0.50 0.49 0.50 0.51 0.51 0.51 0.51 0.51 0.51 0.51 0.51 0.51 0.50 0.49 0.49 0.49 0.49 0.49 0.49 0.49 0.50 \n",
      "\n",
      "0.50 0.50 0.50 0.50 0.50 0.50 0.51 0.50 0.49 0.49 0.49 0.49 0.49 0.49 0.49 0.49 0.49 0.50 0.51 0.51 0.51 0.51 0.51 0.51 0.51 0.50 "
     ]
    }
   ],
   "source": [
    "FB(2, states)"
   ]
  }
 ],
 "metadata": {
  "kernelspec": {
   "display_name": "Python 3",
   "language": "python",
   "name": "python3"
  },
  "language_info": {
   "codemirror_mode": {
    "name": "ipython",
    "version": 3
   },
   "file_extension": ".py",
   "mimetype": "text/x-python",
   "name": "python",
   "nbconvert_exporter": "python",
   "pygments_lexer": "ipython3",
   "version": "3.8.3"
  }
 },
 "nbformat": 4,
 "nbformat_minor": 4
}
